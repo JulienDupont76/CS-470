{
  "nbformat": 4,
  "nbformat_minor": 0,
  "metadata": {
    "colab": {
      "provenance": [],
      "toc_visible": true
    },
    "kernelspec": {
      "name": "python3",
      "display_name": "Python 3"
    },
    "language_info": {
      "name": "python"
    }
  },
  "cells": [
    {
      "cell_type": "code",
      "metadata": {
        "colab": {
          "base_uri": "https://localhost:8080/"
        },
        "id": "TJwmY4a5zco5",
        "outputId": "6e942014-3730-4fd4-a243-c1eaeffc003c"
      },
      "source": [
        "!pip install tldextract"
      ],
      "execution_count": 1,
      "outputs": [
        {
          "output_type": "stream",
          "name": "stdout",
          "text": [
            "Collecting tldextract\n",
            "  Downloading tldextract-5.3.0-py3-none-any.whl.metadata (11 kB)\n",
            "Requirement already satisfied: idna in /usr/local/lib/python3.11/dist-packages (from tldextract) (3.10)\n",
            "Requirement already satisfied: requests>=2.1.0 in /usr/local/lib/python3.11/dist-packages (from tldextract) (2.32.3)\n",
            "Collecting requests-file>=1.4 (from tldextract)\n",
            "  Downloading requests_file-2.1.0-py2.py3-none-any.whl.metadata (1.7 kB)\n",
            "Requirement already satisfied: filelock>=3.0.8 in /usr/local/lib/python3.11/dist-packages (from tldextract) (3.18.0)\n",
            "Requirement already satisfied: charset-normalizer<4,>=2 in /usr/local/lib/python3.11/dist-packages (from requests>=2.1.0->tldextract) (3.4.2)\n",
            "Requirement already satisfied: urllib3<3,>=1.21.1 in /usr/local/lib/python3.11/dist-packages (from requests>=2.1.0->tldextract) (2.4.0)\n",
            "Requirement already satisfied: certifi>=2017.4.17 in /usr/local/lib/python3.11/dist-packages (from requests>=2.1.0->tldextract) (2025.4.26)\n",
            "Downloading tldextract-5.3.0-py3-none-any.whl (107 kB)\n",
            "\u001b[2K   \u001b[90m━━━━━━━━━━━━━━━━━━━━━━━━━━━━━━━━━━━━━━━━\u001b[0m \u001b[32m107.4/107.4 kB\u001b[0m \u001b[31m4.3 MB/s\u001b[0m eta \u001b[36m0:00:00\u001b[0m\n",
            "\u001b[?25hDownloading requests_file-2.1.0-py2.py3-none-any.whl (4.2 kB)\n",
            "Installing collected packages: requests-file, tldextract\n",
            "Successfully installed requests-file-2.1.0 tldextract-5.3.0\n"
          ]
        }
      ]
    },
    {
      "cell_type": "code",
      "metadata": {
        "id": "m7HYosOLwaMT"
      },
      "source": [
        "import pandas as pd\n",
        "import tldextract"
      ],
      "execution_count": 1,
      "outputs": []
    },
    {
      "cell_type": "code",
      "source": [
        "import torch\n",
        "import torch.nn.functional as F\n",
        "from PIL import Image\n",
        "from transformers import CLIPProcessor, CLIPModel\n",
        "\n",
        "# Load CLIP model + processor\n",
        "clip_model = CLIPModel.from_pretrained(\"openai/clip-vit-base-patch32\")\n",
        "clip_processor = CLIPProcessor.from_pretrained(\"openai/clip-vit-base-patch32\")"
      ],
      "metadata": {
        "colab": {
          "base_uri": "https://localhost:8080/"
        },
        "id": "DKcQmjXEi2yw",
        "outputId": "71f3a9d6-b6e8-4b64-87fe-288437e9af70"
      },
      "execution_count": 2,
      "outputs": [
        {
          "output_type": "stream",
          "name": "stderr",
          "text": [
            "/usr/local/lib/python3.11/dist-packages/huggingface_hub/utils/_auth.py:94: UserWarning: \n",
            "The secret `HF_TOKEN` does not exist in your Colab secrets.\n",
            "To authenticate with the Hugging Face Hub, create a token in your settings tab (https://huggingface.co/settings/tokens), set it as secret in your Google Colab and restart your session.\n",
            "You will be able to reuse this secret in all of your notebooks.\n",
            "Please note that authentication is recommended but still optional to access public models or datasets.\n",
            "  warnings.warn(\n",
            "Using a slow image processor as `use_fast` is unset and a slow processor was saved with this model. `use_fast=True` will be the default behavior in v4.52, even if the model was saved with a slow processor. This will result in minor differences in outputs. You'll still be able to use a slow processor with `use_fast=False`.\n"
          ]
        }
      ]
    },
    {
      "cell_type": "code",
      "source": [
        "import sys\n",
        "import ast\n",
        "\n",
        "conf = dict()\n",
        "\n",
        "def get_label_new(sentence, images):\n",
        "    max_len = 77  # max_position_embeddings for CLIP\n",
        "\n",
        "    # Prepare texts: sentence + labels\n",
        "    texts = [sentence] + conf['labels']\n",
        "\n",
        "    # Use clip_processor with truncation and max_length\n",
        "    text_inputs = clip_processor(\n",
        "        text=texts,\n",
        "        return_tensors=\"pt\",\n",
        "        padding=True,\n",
        "        truncation=True,\n",
        "        max_length=max_len\n",
        "    )\n",
        "\n",
        "    if images:  # images present\n",
        "        image_inputs = clip_processor(\n",
        "            images=images,\n",
        "            return_tensors=\"pt\"\n",
        "        )\n",
        "\n",
        "        with torch.no_grad():\n",
        "            text_outputs = clip_model.get_text_features(**text_inputs)\n",
        "            image_outputs = clip_model.get_image_features(**image_inputs)\n",
        "\n",
        "        image_emb = image_outputs.mean(dim=0, keepdim=True)\n",
        "        sentence_emb = text_outputs[0:1]\n",
        "        label_embs = text_outputs[1:]\n",
        "\n",
        "        combined_emb = (sentence_emb + image_emb) / 2\n",
        "\n",
        "    else:  # only text\n",
        "        with torch.no_grad():\n",
        "            text_outputs = clip_model.get_text_features(**text_inputs)\n",
        "        combined_emb = text_outputs[0:1]\n",
        "        label_embs = text_outputs[1:]\n",
        "\n",
        "    similarities = F.cosine_similarity(combined_emb, label_embs)\n",
        "    closest = similarities.argsort(descending=True)\n",
        "\n",
        "    result = f\"{conf['labels'][closest[0]]}:{similarities[closest[0]]:.3f}, \" \\\n",
        "             f\"{conf['labels'][closest[1]]}:{similarities[closest[1]]:.3f}\"\n",
        "\n",
        "    return result\n",
        "\n",
        "labels = [\"sports\", \"politics\", \"technology\"]\n",
        "conf['labels'] = labels\n",
        "\n",
        "import pandas as pd\n",
        "from google.colab import drive\n",
        "drive.mount('/content/drive')\n",
        "\n",
        "df = pd.read_csv('/content/drive/MyDrive/bert/Spider1/crawler_1747902094.csv')\n",
        "\n",
        "\"\"\"\n",
        "sentence = \"Politics\"\n",
        "images = ['/content/drive/MyDrive/bert/Spider1/imgs/42801768_2..png', '/content/drive/MyDrive/bert/Spider1/imgs/38503757_1..png']\n",
        "\n",
        "images = [Image.open(img) for img in images]\n",
        "\n",
        "prediction = get_label_new(sentence, images)\n",
        "print(\"works:\", prediction)\n",
        "\n",
        "sys.exit(0)\n",
        "\"\"\"\n",
        "\n",
        "for i in range(df.shape[0]):\n",
        "  print(f'i = {i}')\n",
        "  sentence = df.iloc[i]['post_text']\n",
        "  images_names = df.iloc[i]['downloaded_imgs']\n",
        "  images_names = ast.literal_eval(images_names)\n",
        "\n",
        "  images_paths = [\"/content/drive/MyDrive/bert/Spider1/imgs/\"+name+\"..png\" for name in images_names]\n",
        "\n",
        "  valid_images = []\n",
        "  for path in images_paths:\n",
        "      try:\n",
        "          img = Image.open(path)\n",
        "          valid_images.append(img)\n",
        "      except:\n",
        "          print(f\"Skipped file {path}\")\n",
        "\n",
        "  prediction = get_label_new(sentence, valid_images)\n",
        "  df.loc[i, 'label'] = prediction\n",
        "\n",
        "  # print(prediction)  # Example: \"sports:0.91, politics:0.45\"\n",
        "\n",
        "df.to_csv('images_and_sentence_prediction.csv', index=False)"
      ],
      "metadata": {
        "colab": {
          "base_uri": "https://localhost:8080/"
        },
        "id": "OYXKCO0biQv2",
        "outputId": "fa8f787b-8aef-473c-cb1a-d9b3a1a6ed0c"
      },
      "execution_count": 5,
      "outputs": [
        {
          "output_type": "stream",
          "name": "stdout",
          "text": [
            "Drive already mounted at /content/drive; to attempt to forcibly remount, call drive.mount(\"/content/drive\", force_remount=True).\n",
            "i = 0\n",
            "i = 1\n",
            "i = 2\n"
          ]
        },
        {
          "output_type": "stream",
          "name": "stderr",
          "text": [
            "/usr/local/lib/python3.11/dist-packages/PIL/Image.py:1043: UserWarning: Palette images with Transparency expressed in bytes should be converted to RGBA images\n",
            "  warnings.warn(\n"
          ]
        },
        {
          "output_type": "stream",
          "name": "stdout",
          "text": [
            "i = 3\n",
            "i = 4\n",
            "i = 5\n",
            "i = 6\n",
            "i = 7\n",
            "i = 8\n",
            "i = 9\n",
            "i = 10\n",
            "i = 11\n",
            "i = 12\n",
            "i = 13\n",
            "i = 14\n",
            "i = 15\n",
            "i = 16\n",
            "i = 17\n",
            "i = 18\n",
            "i = 19\n",
            "i = 20\n",
            "i = 21\n",
            "i = 22\n",
            "i = 23\n",
            "i = 24\n",
            "i = 25\n",
            "i = 26\n",
            "i = 27\n",
            "i = 28\n",
            "i = 29\n",
            "i = 30\n",
            "i = 31\n",
            "i = 32\n",
            "i = 33\n",
            "i = 34\n",
            "i = 35\n",
            "i = 36\n",
            "i = 37\n",
            "i = 38\n",
            "i = 39\n",
            "i = 40\n",
            "i = 41\n",
            "i = 42\n",
            "i = 43\n",
            "i = 44\n",
            "i = 45\n",
            "i = 46\n"
          ]
        },
        {
          "output_type": "stream",
          "name": "stderr",
          "text": [
            "/usr/local/lib/python3.11/dist-packages/PIL/Image.py:1043: UserWarning: Palette images with Transparency expressed in bytes should be converted to RGBA images\n",
            "  warnings.warn(\n"
          ]
        },
        {
          "output_type": "stream",
          "name": "stdout",
          "text": [
            "i = 47\n",
            "i = 48\n",
            "i = 49\n",
            "i = 50\n",
            "i = 51\n",
            "i = 52\n",
            "i = 53\n",
            "i = 54\n",
            "i = 55\n"
          ]
        },
        {
          "output_type": "stream",
          "name": "stderr",
          "text": [
            "/usr/local/lib/python3.11/dist-packages/PIL/Image.py:1043: UserWarning: Palette images with Transparency expressed in bytes should be converted to RGBA images\n",
            "  warnings.warn(\n"
          ]
        },
        {
          "output_type": "stream",
          "name": "stdout",
          "text": [
            "i = 56\n",
            "i = 57\n",
            "i = 58\n",
            "i = 59\n",
            "i = 60\n"
          ]
        },
        {
          "output_type": "stream",
          "name": "stderr",
          "text": [
            "/usr/local/lib/python3.11/dist-packages/PIL/Image.py:1043: UserWarning: Palette images with Transparency expressed in bytes should be converted to RGBA images\n",
            "  warnings.warn(\n"
          ]
        },
        {
          "output_type": "stream",
          "name": "stdout",
          "text": [
            "i = 61\n",
            "i = 62\n",
            "Skipped file /content/drive/MyDrive/bert/Spider1/imgs/10829338_8..png\n",
            "Skipped file /content/drive/MyDrive/bert/Spider1/imgs/10829338_11..png\n",
            "Skipped file /content/drive/MyDrive/bert/Spider1/imgs/10829338_12..png\n",
            "Skipped file /content/drive/MyDrive/bert/Spider1/imgs/10829338_27..png\n",
            "Skipped file /content/drive/MyDrive/bert/Spider1/imgs/10829338_29..png\n",
            "Skipped file /content/drive/MyDrive/bert/Spider1/imgs/10829338_30..png\n",
            "i = 63\n",
            "i = 64\n",
            "i = 65\n",
            "i = 66\n",
            "i = 67\n",
            "i = 68\n"
          ]
        },
        {
          "output_type": "stream",
          "name": "stderr",
          "text": [
            "/usr/local/lib/python3.11/dist-packages/PIL/Image.py:1043: UserWarning: Palette images with Transparency expressed in bytes should be converted to RGBA images\n",
            "  warnings.warn(\n"
          ]
        },
        {
          "output_type": "stream",
          "name": "stdout",
          "text": [
            "i = 69\n",
            "i = 70\n",
            "i = 71\n",
            "i = 72\n",
            "i = 73\n",
            "i = 74\n",
            "i = 75\n"
          ]
        },
        {
          "output_type": "stream",
          "name": "stderr",
          "text": [
            "/usr/local/lib/python3.11/dist-packages/PIL/Image.py:1043: UserWarning: Palette images with Transparency expressed in bytes should be converted to RGBA images\n",
            "  warnings.warn(\n"
          ]
        },
        {
          "output_type": "stream",
          "name": "stdout",
          "text": [
            "i = 76\n",
            "i = 77\n",
            "i = 78\n",
            "i = 79\n",
            "i = 80\n",
            "i = 81\n"
          ]
        },
        {
          "output_type": "stream",
          "name": "stderr",
          "text": [
            "/usr/local/lib/python3.11/dist-packages/PIL/Image.py:1043: UserWarning: Palette images with Transparency expressed in bytes should be converted to RGBA images\n",
            "  warnings.warn(\n"
          ]
        },
        {
          "output_type": "stream",
          "name": "stdout",
          "text": [
            "i = 82\n",
            "i = 83\n",
            "i = 84\n",
            "i = 85\n",
            "i = 86\n",
            "i = 87\n",
            "i = 88\n",
            "i = 89\n",
            "i = 90\n",
            "i = 91\n",
            "i = 92\n",
            "i = 93\n",
            "i = 94\n",
            "i = 95\n",
            "i = 96\n",
            "i = 97\n",
            "i = 98\n",
            "i = 99\n",
            "i = 100\n",
            "i = 101\n",
            "i = 102\n",
            "i = 103\n",
            "i = 104\n",
            "i = 105\n",
            "i = 106\n",
            "i = 107\n"
          ]
        },
        {
          "output_type": "stream",
          "name": "stderr",
          "text": [
            "/usr/local/lib/python3.11/dist-packages/PIL/Image.py:1043: UserWarning: Palette images with Transparency expressed in bytes should be converted to RGBA images\n",
            "  warnings.warn(\n"
          ]
        },
        {
          "output_type": "stream",
          "name": "stdout",
          "text": [
            "i = 108\n",
            "i = 109\n",
            "i = 110\n",
            "i = 111\n",
            "i = 112\n",
            "i = 113\n",
            "i = 114\n",
            "i = 115\n",
            "i = 116\n",
            "i = 117\n",
            "i = 118\n",
            "i = 119\n",
            "i = 120\n",
            "i = 121\n",
            "i = 122\n",
            "i = 123\n",
            "i = 124\n",
            "i = 125\n",
            "i = 126\n",
            "i = 127\n",
            "i = 128\n",
            "i = 129\n",
            "i = 130\n",
            "i = 131\n",
            "i = 132\n",
            "Skipped file /content/drive/MyDrive/bert/Spider1/imgs/20557862_21..png\n",
            "Skipped file /content/drive/MyDrive/bert/Spider1/imgs/20557862_23..png\n",
            "i = 133\n",
            "i = 134\n",
            "i = 135\n",
            "i = 136\n",
            "i = 137\n",
            "i = 138\n",
            "i = 139\n",
            "i = 140\n",
            "Skipped file /content/drive/MyDrive/bert/Spider1/imgs/63557440_8..png\n",
            "Skipped file /content/drive/MyDrive/bert/Spider1/imgs/63557440_22..png\n",
            "i = 141\n",
            "i = 142\n",
            "i = 143\n",
            "i = 144\n",
            "i = 145\n",
            "i = 146\n",
            "i = 147\n",
            "i = 148\n",
            "i = 149\n",
            "i = 150\n",
            "i = 151\n",
            "i = 152\n",
            "i = 153\n",
            "i = 154\n",
            "Skipped file /content/drive/MyDrive/bert/Spider1/imgs/32588921_1..png\n",
            "Skipped file /content/drive/MyDrive/bert/Spider1/imgs/32588921_9..png\n",
            "Skipped file /content/drive/MyDrive/bert/Spider1/imgs/32588921_11..png\n",
            "Skipped file /content/drive/MyDrive/bert/Spider1/imgs/32588921_13..png\n",
            "i = 155\n",
            "Skipped file /content/drive/MyDrive/bert/Spider1/imgs/95998116_2..png\n",
            "Skipped file /content/drive/MyDrive/bert/Spider1/imgs/95998116_4..png\n",
            "Skipped file /content/drive/MyDrive/bert/Spider1/imgs/95998116_5..png\n",
            "i = 156\n",
            "i = 157\n",
            "i = 158\n",
            "i = 159\n",
            "i = 160\n",
            "i = 161\n",
            "i = 162\n",
            "Skipped file /content/drive/MyDrive/bert/Spider1/imgs/11027400_10..png\n",
            "i = 163\n"
          ]
        },
        {
          "output_type": "stream",
          "name": "stderr",
          "text": [
            "/usr/local/lib/python3.11/dist-packages/PIL/Image.py:1043: UserWarning: Palette images with Transparency expressed in bytes should be converted to RGBA images\n",
            "  warnings.warn(\n"
          ]
        },
        {
          "output_type": "stream",
          "name": "stdout",
          "text": [
            "i = 164\n",
            "i = 165\n",
            "i = 166\n",
            "i = 167\n",
            "i = 168\n",
            "Skipped file /content/drive/MyDrive/bert/Spider1/imgs/90352157_1..png\n",
            "i = 169\n",
            "Skipped file /content/drive/MyDrive/bert/Spider1/imgs/17010713_14..png\n",
            "Skipped file /content/drive/MyDrive/bert/Spider1/imgs/17010713_15..png\n",
            "Skipped file /content/drive/MyDrive/bert/Spider1/imgs/17010713_16..png\n",
            "i = 170\n",
            "i = 171\n",
            "i = 172\n",
            "i = 173\n",
            "i = 174\n",
            "i = 175\n",
            "Skipped file /content/drive/MyDrive/bert/Spider1/imgs/82399395_3..png\n",
            "i = 176\n",
            "i = 177\n",
            "i = 178\n",
            "i = 179\n",
            "i = 180\n",
            "i = 181\n",
            "i = 182\n",
            "Skipped file /content/drive/MyDrive/bert/Spider1/imgs/66051380_3..png\n",
            "i = 183\n",
            "i = 184\n",
            "i = 185\n",
            "Skipped file /content/drive/MyDrive/bert/Spider1/imgs/37585755_9..png\n",
            "Skipped file /content/drive/MyDrive/bert/Spider1/imgs/37585755_10..png\n",
            "i = 186\n",
            "i = 187\n",
            "i = 188\n",
            "i = 189\n",
            "Skipped file /content/drive/MyDrive/bert/Spider1/imgs/11428387_3..png\n",
            "i = 190\n",
            "i = 191\n",
            "i = 192\n",
            "i = 193\n",
            "i = 194\n",
            "i = 195\n",
            "i = 196\n",
            "Skipped file /content/drive/MyDrive/bert/Spider1/imgs/90575647_4..png\n",
            "i = 197\n",
            "i = 198\n",
            "i = 199\n",
            "i = 200\n",
            "i = 201\n",
            "i = 202\n",
            "i = 203\n",
            "i = 204\n",
            "Skipped file /content/drive/MyDrive/bert/Spider1/imgs/44960103_4..png\n",
            "i = 205\n",
            "i = 206\n",
            "i = 207\n",
            "i = 208\n",
            "i = 209\n",
            "i = 210\n",
            "i = 211\n",
            "Skipped file /content/drive/MyDrive/bert/Spider1/imgs/2882029_3..png\n",
            "i = 212\n",
            "i = 213\n",
            "i = 214\n",
            "i = 215\n",
            "i = 216\n",
            "i = 217\n",
            "i = 218\n",
            "Skipped file /content/drive/MyDrive/bert/Spider1/imgs/42801768_4..png\n",
            "i = 219\n",
            "i = 220\n",
            "i = 221\n",
            "i = 222\n",
            "i = 223\n",
            "i = 224\n",
            "i = 225\n",
            "Skipped file /content/drive/MyDrive/bert/Spider1/imgs/20749335_3..png\n",
            "i = 226\n",
            "i = 227\n",
            "i = 228\n",
            "i = 229\n",
            "i = 230\n",
            "i = 231\n",
            "i = 232\n",
            "Skipped file /content/drive/MyDrive/bert/Spider1/imgs/48841041_3..png\n",
            "i = 233\n"
          ]
        },
        {
          "output_type": "stream",
          "name": "stderr",
          "text": [
            "/usr/local/lib/python3.11/dist-packages/PIL/Image.py:1043: UserWarning: Palette images with Transparency expressed in bytes should be converted to RGBA images\n",
            "  warnings.warn(\n"
          ]
        },
        {
          "output_type": "stream",
          "name": "stdout",
          "text": [
            "i = 234\n",
            "i = 235\n",
            "i = 236\n",
            "i = 237\n",
            "i = 238\n",
            "i = 239\n",
            "i = 240\n",
            "i = 241\n",
            "i = 242\n",
            "i = 243\n",
            "i = 244\n",
            "i = 245\n",
            "i = 246\n",
            "Skipped file /content/drive/MyDrive/bert/Spider1/imgs/97028164_8..png\n",
            "Skipped file /content/drive/MyDrive/bert/Spider1/imgs/97028164_13..png\n",
            "Skipped file /content/drive/MyDrive/bert/Spider1/imgs/97028164_22..png\n",
            "i = 247\n",
            "i = 248\n",
            "i = 249\n"
          ]
        },
        {
          "output_type": "stream",
          "name": "stderr",
          "text": [
            "/usr/local/lib/python3.11/dist-packages/PIL/Image.py:1043: UserWarning: Palette images with Transparency expressed in bytes should be converted to RGBA images\n",
            "  warnings.warn(\n"
          ]
        },
        {
          "output_type": "stream",
          "name": "stdout",
          "text": [
            "i = 250\n",
            "i = 251\n",
            "i = 252\n",
            "i = 253\n",
            "Skipped file /content/drive/MyDrive/bert/Spider1/imgs/22410815_4..png\n",
            "Skipped file /content/drive/MyDrive/bert/Spider1/imgs/22410815_5..png\n",
            "Skipped file /content/drive/MyDrive/bert/Spider1/imgs/22410815_7..png\n",
            "i = 254\n",
            "i = 255\n",
            "i = 256\n",
            "i = 257\n",
            "i = 258\n",
            "i = 259\n"
          ]
        },
        {
          "output_type": "stream",
          "name": "stderr",
          "text": [
            "/usr/local/lib/python3.11/dist-packages/PIL/Image.py:1043: UserWarning: Palette images with Transparency expressed in bytes should be converted to RGBA images\n",
            "  warnings.warn(\n"
          ]
        },
        {
          "output_type": "stream",
          "name": "stdout",
          "text": [
            "i = 260\n",
            "i = 261\n",
            "Skipped file /content/drive/MyDrive/bert/Spider1/imgs/58955238_4..png\n",
            "Skipped file /content/drive/MyDrive/bert/Spider1/imgs/58955238_8..png\n",
            "Skipped file /content/drive/MyDrive/bert/Spider1/imgs/58955238_22..png\n",
            "i = 262\n",
            "i = 263\n",
            "i = 264\n",
            "i = 265\n"
          ]
        },
        {
          "output_type": "stream",
          "name": "stderr",
          "text": [
            "/usr/local/lib/python3.11/dist-packages/PIL/Image.py:1043: UserWarning: Palette images with Transparency expressed in bytes should be converted to RGBA images\n",
            "  warnings.warn(\n"
          ]
        },
        {
          "output_type": "stream",
          "name": "stdout",
          "text": [
            "i = 266\n",
            "i = 267\n",
            "i = 268\n"
          ]
        }
      ]
    },
    {
      "cell_type": "code",
      "metadata": {
        "id": "Mp0-iEwqzswh"
      },
      "source": [
        "tecknology_domain = [\n",
        "\"addtoany\",\n",
        "\"adobe\",\n",
        "\"computerhope\",\n",
        "\"computerlanguage\",\n",
        "\"eurid\",\n",
        "\"google\",\n",
        "\"mediawiki\",\n",
        "\"merlot\",\n",
        "\"oercommons\",\n",
        "\"pc\"]\n",
        "\n",
        "bussiness_domain=[\n",
        "\"hbr\",\n",
        "\"philadelphiabusinesslist\"]\n",
        "\n",
        "politics_domain=[\n",
        "\"newpol\"]\n",
        "\n",
        "domain_history=[\n",
        "\"historic-uk\",\n",
        "\"newworldencyclopedia\",\n",
        "\"worldhistory\",\n",
        "\"ushistory\"]\n",
        "\n",
        "# loc missouri reddit reimagine-education twitter pod sharpened ox slj         tutorful tutorhouse     wisc\n",
        "\n",
        "total = 0\n",
        "total_urls = 0\n",
        "tech_match = 0\n",
        "tech_miss_match = 0\n",
        "label_cnt = 0\n",
        "n_a = 0"
      ],
      "execution_count": 3,
      "outputs": []
    },
    {
      "cell_type": "code",
      "metadata": {
        "colab": {
          "base_uri": "https://localhost:8080/"
        },
        "id": "rZ1UIwEpwnMe",
        "outputId": "78f7bf58-0299-4504-fc04-482d4fce40c8"
      },
      "source": [
        "csv_file = \"/content/drive/MyDrive/crawler/Spider1/results.csv\"\n",
        "df = pd.read_csv(csv_file,index_col=False)\n",
        "for i in range(0,len(df.index)):\n",
        "  domain = tldextract.extract(df.loc[i,\"link\"]).domain\n",
        "  # print(domain)\n",
        "  total_urls = total_urls +1\n",
        "  if df.loc[i,\"processed\"]== \"Yes\":\n",
        "    total = total +1\n",
        "    if domain in tecknology_domain and df.loc[i,\"label\"].split(':')[0] == \"technology\":\n",
        "      label_cnt = label_cnt +1\n",
        "      tech_match = tech_match + 1\n",
        "      df.loc[i,\"true_label\"]=\"technology\"\n",
        "    elif domain in tecknology_domain and df.loc[i,\"label\"].split(':')[0] != \"technology\":\n",
        "      label_cnt = label_cnt +1\n",
        "      tech_miss_match = tech_miss_match +1\n",
        "      df.loc[i,\"true_label\"]=\"technology\"\n",
        "    elif domain not in tecknology_domain:\n",
        "      n_a = n_a + 1\n",
        "      # print(f\"N/A -- {domain}\")\n",
        "\n",
        "\n",
        "print(f\"results: total = {total} label:{label_cnt}, tech_match = {tech_match} , tech_miss_match = {tech_miss_match}, n_a = {n_a}\")\n",
        "print(f\"total_urls: {total_urls} \")"
      ],
      "execution_count": null,
      "outputs": [
        {
          "output_type": "stream",
          "text": [
            "results: total = 440 label:82, tech_match = 82 , tech_miss_match = 0, n_a = 82\n",
            "total_urls: 440 \n"
          ],
          "name": "stdout"
        }
      ]
    },
    {
      "cell_type": "code",
      "metadata": {
        "colab": {
          "base_uri": "https://localhost:8080/"
        },
        "id": "ETw4J9fRECya",
        "outputId": "a64e3449-d660-4952-bd64-b399d33465c7"
      },
      "source": [
        "csv_file = \"/content/drive/MyDrive/crawler/Spider1/results.csv\"\n",
        "df = pd.read_csv(csv_file,index_col=False)\n",
        "for i in range(0,len(df.index)):\n",
        "  domain = tldextract.extract(df.loc[i,\"link\"]).domain\n",
        "  # print(domain)\n",
        "  total_urls = total_urls +1\n",
        "  if df.loc[i,\"processed\"]== \"Yes\":\n",
        "    total = total +1\n",
        "    if domain in domain_history and df.loc[i,\"label\"].split(':')[0] == \"history\":\n",
        "      label_cnt = label_cnt +1\n",
        "      tech_match = tech_match + 1\n",
        "      df.loc[i,\"true_label\"]=\"history\"\n",
        "    elif domain in domain_history and df.loc[i,\"label\"].split(':')[0] != \"history\":\n",
        "      label_cnt = label_cnt +1\n",
        "      tech_miss_match = tech_miss_match +1\n",
        "      df.loc[i,\"true_label\"]=\"history\"\n",
        "    elif domain not in domain_history:\n",
        "      n_a = n_a + 1\n",
        "      # print(f\"N/A -- {domain}\")\n",
        "\n",
        "\n",
        "print(f\"results: total = {total} label:{label_cnt}, tech_match = {tech_match} , tech_miss_match = {tech_miss_match}, n_a = {n_a}\")"
      ],
      "execution_count": null,
      "outputs": [
        {
          "output_type": "stream",
          "text": [
            "results: total = 609 label:244, tech_match = 115 , tech_miss_match = 129, n_a = 365\n"
          ],
          "name": "stdout"
        }
      ]
    },
    {
      "cell_type": "code",
      "metadata": {
        "colab": {
          "base_uri": "https://localhost:8080/"
        },
        "id": "2lliPdAvFDZZ",
        "outputId": "0d4a4432-4572-4728-b54c-ab5d8a82c405"
      },
      "source": [
        "csv_file = \"/content/drive/MyDrive/crawler/Spider1/results.csv\"\n",
        "df = pd.read_csv(csv_file,index_col=False)\n",
        "for i in range(0,len(df.index)):\n",
        "  domain = tldextract.extract(df.loc[i,\"link\"]).domain\n",
        "  # print(domain)\n",
        "  total_urls = total_urls +1\n",
        "  if df.loc[i,\"processed\"]== \"Yes\":\n",
        "    total = total +1\n",
        "    if domain in bussiness_domain and df.loc[i,\"label\"].split(':')[0] == \"business\":\n",
        "      label_cnt = label_cnt +1\n",
        "      tech_match = tech_match + 1\n",
        "      df.loc[i,\"true_label\"]=\"business\"\n",
        "    elif domain in bussiness_domain and df.loc[i,\"label\"].split(':')[0] != \"business\":\n",
        "      label_cnt = label_cnt +1\n",
        "      tech_miss_match = tech_miss_match +1\n",
        "      df.loc[i,\"true_label\"]=\"business\"\n",
        "    elif domain not in bussiness_domain:\n",
        "      n_a = n_a + 1\n",
        "      # print(f\"N/A -- {domain}\")\n",
        "\n",
        "\n",
        "print(f\"results: total = {total} label:{label_cnt}, tech_match = {tech_match} , tech_miss_match = {tech_miss_match}, n_a = {n_a}\")"
      ],
      "execution_count": null,
      "outputs": [
        {
          "output_type": "stream",
          "text": [
            "results: total = 609 label:61, tech_match = 58 , tech_miss_match = 3, n_a = 548\n"
          ],
          "name": "stdout"
        }
      ]
    },
    {
      "cell_type": "code",
      "metadata": {
        "colab": {
          "base_uri": "https://localhost:8080/"
        },
        "id": "PezfS_gZFWt3",
        "outputId": "a1abdef8-c176-4427-a1f5-ccb0f4efbbc9"
      },
      "source": [
        "csv_file = \"/content/drive/MyDrive/crawler/Spider1/results.csv\"\n",
        "df = pd.read_csv(csv_file,index_col=False)\n",
        "for i in range(0,len(df.index)):\n",
        "  domain = tldextract.extract(df.loc[i,\"link\"]).domain\n",
        "  # print(domain)\n",
        "  total_urls = total_urls +1\n",
        "  if df.loc[i,\"processed\"]== \"Yes\":\n",
        "    total = total +1\n",
        "    if domain in politics_domain and df.loc[i,\"label\"].split(':')[0] == \"politics\":\n",
        "      label_cnt = label_cnt +1\n",
        "      tech_match = tech_match + 1\n",
        "      df.loc[i,\"true_label\"]=\"politics\"\n",
        "    elif domain in politics_domain and df.loc[i,\"label\"].split(':')[0] != \"politics\":\n",
        "      label_cnt = label_cnt +1\n",
        "      tech_miss_match = tech_miss_match +1\n",
        "      df.loc[i,\"true_label\"]=\"politics\"\n",
        "    elif domain not in politics_domain:\n",
        "      n_a = n_a + 1\n",
        "      # print(f\"N/A -- {domain}\")\n",
        "\n",
        "\n",
        "print(f\"results: total = {total} label:{label_cnt}, tech_match = {tech_match} , tech_miss_match = {tech_miss_match}, n_a = {n_a}\")"
      ],
      "execution_count": null,
      "outputs": [
        {
          "output_type": "stream",
          "text": [
            "results: total = 609 label:51, tech_match = 38 , tech_miss_match = 13, n_a = 558\n"
          ],
          "name": "stdout"
        }
      ]
    },
    {
      "cell_type": "code",
      "metadata": {
        "id": "jJFOWfR-5uA5"
      },
      "source": [
        "with open(csv_file, 'w') as f:\n",
        "  df.to_csv(f,index=False)"
      ],
      "execution_count": null,
      "outputs": []
    }
  ]
}