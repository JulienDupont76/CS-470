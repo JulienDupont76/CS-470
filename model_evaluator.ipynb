{
  "nbformat": 4,
  "nbformat_minor": 0,
  "metadata": {
    "colab": {
      "provenance": []
    },
    "kernelspec": {
      "name": "python3",
      "display_name": "Python 3"
    },
    "language_info": {
      "name": "python"
    }
  },
  "cells": [
    {
      "cell_type": "code",
      "metadata": {
        "colab": {
          "base_uri": "https://localhost:8080/"
        },
        "id": "TJwmY4a5zco5",
        "outputId": "35be10c3-20a7-4463-d6c1-7fb3bbc02f4c"
      },
      "source": [
        "!pip install tldextract"
      ],
      "execution_count": 1,
      "outputs": [
        {
          "output_type": "stream",
          "name": "stdout",
          "text": [
            "Collecting tldextract\n",
            "  Downloading tldextract-5.3.0-py3-none-any.whl.metadata (11 kB)\n",
            "Requirement already satisfied: idna in /usr/local/lib/python3.11/dist-packages (from tldextract) (3.10)\n",
            "Requirement already satisfied: requests>=2.1.0 in /usr/local/lib/python3.11/dist-packages (from tldextract) (2.32.3)\n",
            "Collecting requests-file>=1.4 (from tldextract)\n",
            "  Downloading requests_file-2.1.0-py2.py3-none-any.whl.metadata (1.7 kB)\n",
            "Requirement already satisfied: filelock>=3.0.8 in /usr/local/lib/python3.11/dist-packages (from tldextract) (3.18.0)\n",
            "Requirement already satisfied: charset-normalizer<4,>=2 in /usr/local/lib/python3.11/dist-packages (from requests>=2.1.0->tldextract) (3.4.2)\n",
            "Requirement already satisfied: urllib3<3,>=1.21.1 in /usr/local/lib/python3.11/dist-packages (from requests>=2.1.0->tldextract) (2.4.0)\n",
            "Requirement already satisfied: certifi>=2017.4.17 in /usr/local/lib/python3.11/dist-packages (from requests>=2.1.0->tldextract) (2025.4.26)\n",
            "Downloading tldextract-5.3.0-py3-none-any.whl (107 kB)\n",
            "\u001b[2K   \u001b[90m━━━━━━━━━━━━━━━━━━━━━━━━━━━━━━━━━━━━━━━━\u001b[0m \u001b[32m107.4/107.4 kB\u001b[0m \u001b[31m4.2 MB/s\u001b[0m eta \u001b[36m0:00:00\u001b[0m\n",
            "\u001b[?25hDownloading requests_file-2.1.0-py2.py3-none-any.whl (4.2 kB)\n",
            "Installing collected packages: requests-file, tldextract\n",
            "Successfully installed requests-file-2.1.0 tldextract-5.3.0\n"
          ]
        }
      ]
    },
    {
      "cell_type": "code",
      "metadata": {
        "id": "m7HYosOLwaMT"
      },
      "source": [
        "import pandas as pd\n",
        "import tldextract"
      ],
      "execution_count": 2,
      "outputs": []
    },
    {
      "cell_type": "code",
      "source": [
        "from google.colab import drive\n",
        "drive.mount(\"/content/drive\", force_remount=True)\n",
        "\n",
        "domain_categories = {\n",
        "    \"technology\": [\n",
        "        \"addtoany\", \"adobe\", \"computerhope\", \"computerlanguage\", \"eurid\", \"google\",\n",
        "        \"mediawiki\", \"merlot\", \"oercommons\", \"pc\"\n",
        "    ],\n",
        "    \"business\": [\n",
        "        \"hbr\", \"philadelphiabusinesslist\"\n",
        "    ],\n",
        "    \"politics\": [\n",
        "        \"newpol\"\n",
        "    ],\n",
        "    \"history\": [\n",
        "        \"historic-uk\", \"newworldencyclopedia\", \"worldhistory\", \"ushistory\"\n",
        "    ]\n",
        "}\n",
        "\n",
        "results = {}\n",
        "total = 0\n",
        "total_urls = 0\n",
        "\n",
        "csv_file = \"/content/drive/MyDrive/KAIST/Spider1-best3/results.csv\"\n",
        "df = pd.read_csv(csv_file)\n",
        "\n",
        "if \"true_label\" not in df.columns:\n",
        "    df[\"true_label\"] = None\n",
        "\n",
        "for i, row in df.iterrows():\n",
        "    domain = tldextract.extract(row[\"link\"]).domain\n",
        "    total_urls += 1\n",
        "    if row[\"processed\"] != \"Yes\":\n",
        "        continue\n",
        "\n",
        "    total += 1\n",
        "    label_str = row[\"label\"]\n",
        "    first_label = label_str.split(',')[0].split(':')[0][2:].strip()\n",
        "\n",
        "    matched = False\n",
        "    for label, domains in domain_categories.items():\n",
        "        if domain in domains:\n",
        "            df.at[i, \"true_label\"] = label\n",
        "            if label not in results:\n",
        "                results[label] = {\"match\": 0, \"mismatch\": 0, \"count\": 0}\n",
        "            results[label][\"count\"] += 1\n",
        "            if first_label == label:\n",
        "                results[label][\"match\"] += 1\n",
        "            else:\n",
        "                results[label][\"mismatch\"] += 1\n",
        "            matched = True\n",
        "            break\n",
        "\n",
        "    if not matched:\n",
        "        df.at[i, \"true_label\"] = \"N/A\"\n",
        "\n",
        "print(f\"Total processed: {total}\")\n",
        "print(f\"Total URLs: {total_urls}\\n\")\n",
        "for label, stats in results.items():\n",
        "    TP = stats[\"match\"]\n",
        "    FP = stats[\"mismatch\"]\n",
        "    precision = TP / (TP + FP) if (TP + FP) > 0 else 0\n",
        "\n",
        "    print(f\"[{label.upper()}] matched: {stats['match']} / {stats['count']} | mismatch: {stats['mismatch']} | 🎯 Precision: {precision:.2f}\")\n"
      ],
      "metadata": {
        "id": "mzlAO5GUB1kP",
        "colab": {
          "base_uri": "https://localhost:8080/"
        },
        "outputId": "6d191724-79ad-4c10-d2f7-363c2581c956"
      },
      "execution_count": 4,
      "outputs": [
        {
          "output_type": "stream",
          "name": "stdout",
          "text": [
            "Mounted at /content/drive\n",
            "Total processed: 329\n",
            "Total URLs: 329\n",
            "\n",
            "[TECHNOLOGY] matched: 73 / 85 | mismatch: 12 | 🎯 Precision: 0.86\n",
            "[BUSINESS] matched: 0 / 43 | mismatch: 43 | 🎯 Precision: 0.00\n",
            "[HISTORY] matched: 50 / 160 | mismatch: 110 | 🎯 Precision: 0.31\n",
            "[POLITICS] matched: 31 / 34 | mismatch: 3 | 🎯 Precision: 0.91\n"
          ]
        }
      ]
    },
    {
      "cell_type": "code",
      "metadata": {
        "id": "jJFOWfR-5uA5"
      },
      "source": [
        "with open(csv_file, 'w') as f:\n",
        "  df.to_csv(f)"
      ],
      "execution_count": null,
      "outputs": []
    }
  ]
}