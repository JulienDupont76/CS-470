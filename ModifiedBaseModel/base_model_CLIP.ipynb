{
  "cells": [
    {
      "cell_type": "markdown",
      "metadata": {
        "id": "WS6h9ujc0HWt"
      },
      "source": [
        "# Topic-Spesific Crawler (Text Only)\n",
        "## Data Mining and Knowledge Discovery\n",
        "## Dr. Saed Alqaraleh\n",
        "## 2020-2021\n",
        "\n",
        "### By: Yahya Tawil\n",
        "### May 2021\n",
        "\n"
      ]
    },
    {
      "cell_type": "code",
      "execution_count": null,
      "metadata": {
        "colab": {
          "base_uri": "https://localhost:8080/"
        },
        "id": "P2dUHfIjziWQ",
        "outputId": "892c406b-65c2-4504-8d41-7a11319a1058"
      },
      "outputs": [
        {
          "name": "stdout",
          "output_type": "stream",
          "text": [
            "Requirement already satisfied: tldextract in /usr/local/lib/python3.11/dist-packages (5.3.0)\n",
            "Requirement already satisfied: idna in /usr/local/lib/python3.11/dist-packages (from tldextract) (3.10)\n",
            "Requirement already satisfied: requests>=2.1.0 in /usr/local/lib/python3.11/dist-packages (from tldextract) (2.32.3)\n",
            "Requirement already satisfied: requests-file>=1.4 in /usr/local/lib/python3.11/dist-packages (from tldextract) (2.1.0)\n",
            "Requirement already satisfied: filelock>=3.0.8 in /usr/local/lib/python3.11/dist-packages (from tldextract) (3.18.0)\n",
            "Requirement already satisfied: charset-normalizer<4,>=2 in /usr/local/lib/python3.11/dist-packages (from requests>=2.1.0->tldextract) (3.4.2)\n",
            "Requirement already satisfied: urllib3<3,>=1.21.1 in /usr/local/lib/python3.11/dist-packages (from requests>=2.1.0->tldextract) (2.4.0)\n",
            "Requirement already satisfied: certifi>=2017.4.17 in /usr/local/lib/python3.11/dist-packages (from requests>=2.1.0->tldextract) (2025.4.26)\n",
            "Requirement already satisfied: transformers in /usr/local/lib/python3.11/dist-packages (4.51.3)\n",
            "Requirement already satisfied: filelock in /usr/local/lib/python3.11/dist-packages (from transformers) (3.18.0)\n",
            "Requirement already satisfied: huggingface-hub<1.0,>=0.30.0 in /usr/local/lib/python3.11/dist-packages (from transformers) (0.31.2)\n",
            "Requirement already satisfied: numpy>=1.17 in /usr/local/lib/python3.11/dist-packages (from transformers) (2.0.2)\n",
            "Requirement already satisfied: packaging>=20.0 in /usr/local/lib/python3.11/dist-packages (from transformers) (24.2)\n",
            "Requirement already satisfied: pyyaml>=5.1 in /usr/local/lib/python3.11/dist-packages (from transformers) (6.0.2)\n",
            "Requirement already satisfied: regex!=2019.12.17 in /usr/local/lib/python3.11/dist-packages (from transformers) (2024.11.6)\n",
            "Requirement already satisfied: requests in /usr/local/lib/python3.11/dist-packages (from transformers) (2.32.3)\n",
            "Requirement already satisfied: tokenizers<0.22,>=0.21 in /usr/local/lib/python3.11/dist-packages (from transformers) (0.21.1)\n",
            "Requirement already satisfied: safetensors>=0.4.3 in /usr/local/lib/python3.11/dist-packages (from transformers) (0.5.3)\n",
            "Requirement already satisfied: tqdm>=4.27 in /usr/local/lib/python3.11/dist-packages (from transformers) (4.67.1)\n",
            "Requirement already satisfied: fsspec>=2023.5.0 in /usr/local/lib/python3.11/dist-packages (from huggingface-hub<1.0,>=0.30.0->transformers) (2025.3.2)\n",
            "Requirement already satisfied: typing-extensions>=3.7.4.3 in /usr/local/lib/python3.11/dist-packages (from huggingface-hub<1.0,>=0.30.0->transformers) (4.13.2)\n",
            "Requirement already satisfied: charset-normalizer<4,>=2 in /usr/local/lib/python3.11/dist-packages (from requests->transformers) (3.4.2)\n",
            "Requirement already satisfied: idna<4,>=2.5 in /usr/local/lib/python3.11/dist-packages (from requests->transformers) (3.10)\n",
            "Requirement already satisfied: urllib3<3,>=1.21.1 in /usr/local/lib/python3.11/dist-packages (from requests->transformers) (2.4.0)\n",
            "Requirement already satisfied: certifi>=2017.4.17 in /usr/local/lib/python3.11/dist-packages (from requests->transformers) (2025.4.26)\n"
          ]
        }
      ],
      "source": [
        "!pip install tldextract\n",
        "!pip install transformers\n"
      ]
    },
    {
      "cell_type": "code",
      "execution_count": null,
      "metadata": {
        "colab": {
          "base_uri": "https://localhost:8080/"
        },
        "id": "6uPbc_zg6VJU",
        "outputId": "3b265e7c-2fc1-47eb-bf94-0b1197d8a8e1"
      },
      "outputs": [
        {
          "name": "stderr",
          "output_type": "stream",
          "text": [
            "/usr/local/lib/python3.11/dist-packages/huggingface_hub/utils/_auth.py:94: UserWarning: \n",
            "The secret `HF_TOKEN` does not exist in your Colab secrets.\n",
            "To authenticate with the Hugging Face Hub, create a token in your settings tab (https://huggingface.co/settings/tokens), set it as secret in your Google Colab and restart your session.\n",
            "You will be able to reuse this secret in all of your notebooks.\n",
            "Please note that authentication is recommended but still optional to access public models or datasets.\n",
            "  warnings.warn(\n",
            "Using a slow image processor as `use_fast` is unset and a slow processor was saved with this model. `use_fast=True` will be the default behavior in v4.52, even if the model was saved with a slow processor. This will result in minor differences in outputs. You'll still be able to use a slow processor with `use_fast=False`.\n",
            "Device set to use cuda:0\n"
          ]
        }
      ],
      "source": [
        "import csv\n",
        "import ssl\n",
        "import os\n",
        "import ast\n",
        "from urllib.request import Request, urlopen, URLError, urljoin\n",
        "from urllib.parse import urlparse\n",
        "import time\n",
        "import threading\n",
        "import queue\n",
        "from bs4 import BeautifulSoup\n",
        "from bs4.element import Comment\n",
        "from pathlib import Path\n",
        "import re\n",
        "from datetime import datetime\n",
        "from queue import PriorityQueue, Empty\n",
        "from matplotlib import pyplot as plt\n",
        "import tldextract\n",
        "import hashlib\n",
        "import requests\n",
        "from google.colab import files as FILE\n",
        "import pathlib\n",
        "import pandas as pd\n",
        "\n",
        "import torch\n",
        "from transformers import pipeline\n",
        "from transformers import CLIPProcessor, CLIPModel\n",
        "from torch.nn import functional as F\n",
        "from PIL import Image\n",
        "\n",
        "clip_model = CLIPModel.from_pretrained(\"openai/clip-vit-base-patch32\")\n",
        "clip_processor = CLIPProcessor.from_pretrained(\"openai/clip-vit-base-patch32\")\n",
        "summarizer = pipeline(\"summarization\", model=\"sshleifer/distilbart-cnn-12-6\")"
      ]
    },
    {
      "cell_type": "code",
      "execution_count": null,
      "metadata": {
        "colab": {
          "base_uri": "https://localhost:8080/"
        },
        "id": "Co_uDyD5Cjn6",
        "outputId": "6e94a287-414c-4b80-a1ce-def89e59c2d5"
      },
      "outputs": [
        {
          "name": "stdout",
          "output_type": "stream",
          "text": [
            "Mounted at /content/drive\n"
          ]
        }
      ],
      "source": [
        "from google.colab import drive\n",
        "drive.mount(\"/content/drive\", force_remount=True)"
      ]
    },
    {
      "cell_type": "code",
      "execution_count": null,
      "metadata": {
        "id": "4XW4AZSJ6rN8"
      },
      "outputs": [],
      "source": [
        "### Script Settings ###\n",
        "conf = dict(\n",
        "    dir = '/content/drive/My Drive/KAIST/Spider1/',\n",
        "    imgsDir = \"/content/drive/My Drive/KAIST/Spider1/imgs/\",\n",
        "    base_url = ['https://www.worldhistory.org', # history\n",
        "                'https://www.newworldencyclopedia.org/', # history\n",
        "                'https://www.ushistory.org', # history\n",
        "                'https://www.historic-uk.com/', # history\n",
        "                'https://hbr.org/', # bussiness\n",
        "                'https://newpol.org/', # politics\n",
        "                'https://pc.net/', # technology\n",
        "                'https://www.computerhope.com/', # technology\n",
        "                'https://www.computerlanguage.com/'], # technology\n",
        "    number_of_threads = 9,\n",
        "    labels = ['technology','business','politics', 'history'],\n",
        "    blacklist = ['facebook','instagram','youtube'],\n",
        "    mode = \"summarize\",\n",
        "    image_weight = 0.3\n",
        ")\n",
        "\n",
        "start_time = int(time.time())\n",
        "crawled_csv = conf['dir']+'crawler_'+\"{}.csv\".format(start_time)\n",
        "###"
      ]
    },
    {
      "cell_type": "code",
      "execution_count": null,
      "metadata": {
        "colab": {
          "base_uri": "https://localhost:8080/"
        },
        "id": "zFpY-2YY8Onc",
        "outputId": "969e4020-c25f-4519-dbcb-6b60533e715d"
      },
      "outputs": [
        {
          "name": "stdout",
          "output_type": "stream",
          "text": [
            "Create Directory\n",
            "Create Imgs Directory\n"
          ]
        }
      ],
      "source": [
        "speed_samples_10S = [] # number of total download pages\n",
        "speed_samples_10S_ctr = 0 # counter oh how many 10s sample we have\n",
        "pages_count = 0\n",
        "\n",
        "lck = threading.Lock()\n",
        "\n",
        "#Delete the Crawler Directory to start from a clean dirctory\n",
        "if os.path.exists(conf['dir']) is False:\n",
        "  print(\"Create Directory\")\n",
        "  os.mkdir(conf['dir'])\n",
        "\n",
        "if os.path.exists(conf['imgsDir']) is False:\n",
        "  print(\"Create Imgs Directory\")\n",
        "  os.mkdir(conf['imgsDir'])\n",
        "\n",
        "crawler_csv_file = open(crawled_csv, mode='a')\n",
        "crawlerFile_writer = csv.writer(crawler_csv_file, delimiter=',', quotechar='\"', quoting=csv.QUOTE_MINIMAL)\n",
        "crawlerFile_writer.writerow([\"timestamp\",\"hash\",\"link\",\"post_text\",\"downloaded_imgs\",\"processed\",\"label\",\"true_label\"])\n",
        "pages_count = pages_count +1\n",
        "crawler_csv_file.close()"
      ]
    },
    {
      "cell_type": "code",
      "execution_count": null,
      "metadata": {
        "id": "YDwfJMbcaEvO"
      },
      "outputs": [],
      "source": [
        "class MyPriorityQueue(PriorityQueue):\n",
        "    def __init__(self):\n",
        "        PriorityQueue.__init__(self)\n",
        "        self.counter = 0\n",
        "\n",
        "    def put(self, item, priority):\n",
        "        PriorityQueue.put(self, (priority, self.counter, item))\n",
        "        self.counter += 1\n",
        "\n",
        "    def get(self, *args, **kwargs):\n",
        "        _, _, item = PriorityQueue.get(self, *args, **kwargs)\n",
        "        return item"
      ]
    },
    {
      "cell_type": "code",
      "execution_count": null,
      "metadata": {
        "id": "iprfCgPLlE2A"
      },
      "outputs": [],
      "source": [
        "class Classifier(threading.Thread):\n",
        "  def __init__(self):\n",
        "    threading.Thread.__init__(self)\n",
        "\n",
        "  def summarize_text(self, text, max_tokens=70):\n",
        "    \"\"\"Perform light summarization on the input text.\"\"\"\n",
        "\n",
        "    tokenizer = summarizer.tokenizer\n",
        "    inputs = tokenizer.encode(text, truncation=True, max_length=1000)\n",
        "    truncated_text = tokenizer.decode(inputs, skip_special_tokens=True)\n",
        "\n",
        "    summary = summarizer(\n",
        "        truncated_text,\n",
        "        max_length=max_tokens,\n",
        "        min_length=20,\n",
        "        do_sample=False\n",
        "    )[0]['summary_text']\n",
        "\n",
        "    return summary\n",
        "\n",
        "  def chunk_text(self, text, max_len=77, stride=60):\n",
        "    \"\"\"Split long text into overlapping chunks based on tokenizer.\"\"\"\n",
        "    encoded = clip_processor(text, return_attention_mask=False, return_token_type_ids=False, add_special_tokens=False)\n",
        "    input_ids = encoded['input_ids']\n",
        "\n",
        "    chunks = []\n",
        "    for i in range(0, len(input_ids), stride):\n",
        "      chunk_ids = input_ids[i:i + max_len]\n",
        "      if not chunk_ids:\n",
        "        continue\n",
        "      chunk_text = clip_processor.decode(chunk_ids, clean_up_tokenization_spaces=True)\n",
        "      chunks.append(chunk_text)\n",
        "      if len(chunk_ids) < max_len:\n",
        "        break\n",
        "    return chunks\n",
        "\n",
        "  def get_label(self, sentence, images=None, image_weight=0.5, mode = None):\n",
        "    \"\"\"\n",
        "    Classify the input sentence (and optional images) against known labels.\n",
        "    Combines chunked sentence embeddings with image embeddings weighted by image_weight.\n",
        "    \"\"\"\n",
        "    max_len = 77  # max_position_embeddings for CLIP\n",
        "\n",
        "    if mode == \"chunk\":\n",
        "      sentence_chunks = self.chunk_text(sentence)\n",
        "      texts = sentence_chunks + conf['labels']\n",
        "\n",
        "      text_inputs = clip_processor(\n",
        "          text=texts,\n",
        "          return_tensors=\"pt\",\n",
        "          padding=True,\n",
        "          truncation=True,\n",
        "          max_length=max_len\n",
        "      )\n",
        "\n",
        "      with torch.no_grad():\n",
        "          text_outputs = clip_model.get_text_features(**text_inputs)\n",
        "\n",
        "      chunk_embs = text_outputs[:len(sentence_chunks)]\n",
        "      label_embs = text_outputs[len(sentence_chunks):]\n",
        "      sentence_emb = chunk_embs.mean(dim=0, keepdim=True)\n",
        "\n",
        "    elif mode == \"summarize\":\n",
        "      # Summarization mode\n",
        "      summarized = self.summarize_text(sentence, max_tokens=60)\n",
        "      texts = [summarized] + conf['labels']\n",
        "\n",
        "      text_inputs = clip_processor(\n",
        "          text=texts,\n",
        "          return_tensors=\"pt\",\n",
        "          padding=True,\n",
        "          truncation=True,\n",
        "          max_length=max_len\n",
        "      )\n",
        "\n",
        "      with torch.no_grad():\n",
        "          text_outputs = clip_model.get_text_features(**text_inputs)\n",
        "\n",
        "      sentence_emb = text_outputs[0:1]\n",
        "      label_embs = text_outputs[1:]\n",
        "\n",
        "    else:\n",
        "      texts = [sentence] + conf['labels']\n",
        "      text_inputs = clip_processor(\n",
        "        text=texts,\n",
        "        return_tensors=\"pt\",\n",
        "        padding=True,\n",
        "        truncation=True,\n",
        "        max_length=max_len\n",
        "      )\n",
        "\n",
        "    if images:  # images present\n",
        "        image_inputs = clip_processor(\n",
        "            images=images,\n",
        "            return_tensors=\"pt\"\n",
        "        )\n",
        "        with torch.no_grad():\n",
        "            image_outputs = clip_model.get_image_features(**image_inputs)\n",
        "        image_emb = image_outputs.mean(dim=0, keepdim=True)\n",
        "\n",
        "        combined_emb = (1 - image_weight) * sentence_emb + image_weight * image_emb\n",
        "\n",
        "    else:\n",
        "        combined_emb = sentence_emb\n",
        "\n",
        "    combined_emb = F.normalize(combined_emb, dim=-1)\n",
        "    label_embs = F.normalize(label_embs, dim=-1)\n",
        "\n",
        "    similarities = F.cosine_similarity(combined_emb, label_embs)\n",
        "    closest = similarities.argsort(descending=True)\n",
        "\n",
        "    label = f\"{conf['labels'][closest[0]]}:{similarities[closest[0]]:.3f},\" \\\n",
        "                f\"{conf['labels'][closest[1]]}:{similarities[closest[1]]:.3f}\"\n",
        "    return label\n",
        "\n",
        "  def run(self):\n",
        "    time.sleep(15) # sleep 10 s until the downloader get some data\n",
        "    while True:\n",
        "      # reading the csv file\n",
        "      lck.acquire()\n",
        "      df = pd.read_csv(crawled_csv,index_col=False)\n",
        "      df['label'] = df['label'].astype(object)\n",
        "      for i in range(0,len(df. index)):\n",
        "        if df.loc[i, 'processed'] == \"No\":\n",
        "          df.loc[i, 'processed'] = 'Yes'\n",
        "\n",
        "          sentence = df.loc[i, 'post_text']\n",
        "          images_names = df.loc[i, 'downloaded_imgs']\n",
        "          images_names = ast.literal_eval(images_names)\n",
        "\n",
        "          images_paths = [conf['imgsDir'] + name for name in images_names]\n",
        "\n",
        "          valid_images = []\n",
        "          for path in images_paths:\n",
        "            try:\n",
        "              img = Image.open(path).convert(\"RGB\")\n",
        "              if img.mode == 'P':\n",
        "                img = img.convert('RGBA')\n",
        "              else:\n",
        "                img = img.convert('RGB')\n",
        "              valid_images.append(img)\n",
        "            except:\n",
        "              print(f\"Skipped file {path}\")\n",
        "\n",
        "          prediction = self.get_label(sentence, valid_images, conf[\"image_weight\"], conf[\"mode\"])\n",
        "          df.loc[i, 'label'] = [prediction]\n",
        "\n",
        "          with open(crawled_csv, 'w') as f:\n",
        "            df.to_csv(f,index=False)\n",
        "          lck.release()\n",
        "          i = i +1\n",
        "          break\n",
        "        i = i +1\n",
        "        if i == len(df. index) - 1:\n",
        "          time.sleep(10) # sleep 10 sec when there are no more enough data\n",
        "      time.sleep(0.5)\n"
      ]
    },
    {
      "cell_type": "code",
      "execution_count": null,
      "metadata": {
        "id": "D4nlSA1r8FEE"
      },
      "outputs": [],
      "source": [
        "regular_express = re.compile(r\"https?://(\\.)?\")\n",
        "\n",
        "class Crawler(threading.Thread):\n",
        "    def __init__(self,base_url,url_queue,have_visited, error_links,url_lock,thread_num):\n",
        "\n",
        "        threading.Thread.__init__(self)\n",
        "        print(f\"Web Crawler worker {threading.current_thread()} has Started\")\n",
        "        self.base_url = base_url\n",
        "        self.links_queue= url_queue\n",
        "        self.have_visited = have_visited\n",
        "        self.error_links = error_links\n",
        "        self.url_lock = url_lock\n",
        "        self.threadNo = thread_num\n",
        "\n",
        "    def tag_visible(self,element): # to exclude the following tags content\n",
        "        if element.parent.name in ['style', 'script', 'head', 'title', 'meta', '[document]']:\n",
        "            return False\n",
        "        if isinstance(element, Comment):\n",
        "            return False\n",
        "        if re.match(r\"[\\n]+\",str(element)): return False\n",
        "        return True\n",
        "\n",
        "    def run(self):\n",
        "        global lck\n",
        "        global pages_count\n",
        "        my_ssl = ssl.create_default_context()\n",
        "        my_ssl.check_hostname = False\n",
        "        my_ssl.verify_mode = ssl.CERT_NONE\n",
        "\n",
        "        while True:\n",
        "            now = datetime.now()\n",
        "            timestamp = datetime.timestamp(now)\n",
        "            #print(\"Queue Size {} in thread{}:\".format(self.links_queue.qsize(),self.threadNo))\n",
        "            try:\n",
        "              link = self.links_queue.get()\n",
        "              link = urljoin(self.base_url,link)\n",
        "              domain = tldextract.extract(link).domain\n",
        "              if domain in conf['blacklist']:\n",
        "                continue\n",
        "\n",
        "              domain_have_visited = self.have_visited.get(domain,0)\n",
        "              if domain_have_visited == 0:\n",
        "                domain_have_visited = []\n",
        "\n",
        "              # if the link is None the queue is exhausted or the threads are yet\n",
        "              # process the links.\n",
        "              if link is None:\n",
        "                  break\n",
        "\n",
        "              # if The link is already visited we break the execution unless it passed 24h since last visit.\n",
        "              if len(domain_have_visited) != 0:\n",
        "                find=[item for item in domain_have_visited if link in item]\n",
        "                if len(find)>0:\n",
        "                  find=tuple(find)\n",
        "                  if (now - find[0][1]).total_seconds() < 86400: # 86400 is 24H in secs, if the last visit time is less than 24h, then don't visit\n",
        "                    # print(f\"The link {link} is already visited\")\n",
        "                    continue\n",
        "                  else:\n",
        "                      self.have_visited[domain].remove(find[0]) #remove the record, to add new one later\n",
        "\n",
        "              try:\n",
        "                  req = Request(link, headers= {'User-Agent': 'Mozilla/5.0'})\n",
        "                  try:\n",
        "                    response = urlopen(req, context=my_ssl)\n",
        "                  except:\n",
        "                    continue\n",
        "\n",
        "                  soup = BeautifulSoup(response.read(),\"html.parser\")\n",
        "                  text=soup.prettify()\n",
        "\n",
        "                  images = soup.find_all('img')\n",
        "                  # print(f\"Total {len(images)} Image Found!\")\n",
        "\n",
        "                  downloaded_imgs = []\n",
        "                  hash = int(hashlib.sha256(link.encode('utf-8')).hexdigest(), 16) % 10**8\n",
        "\n",
        "                  if len(images) != 0:\n",
        "                    for i, image in enumerate(images):\n",
        "                      try:\n",
        "                          # In image tag ,searching for \"data-srcset\"\n",
        "                          image_link = image[\"data-srcset\"]\n",
        "\n",
        "                      # then we will search for \"data-src\" in img\n",
        "                      # tag and so on..\n",
        "                      except:\n",
        "                          try:\n",
        "                              # In image tag ,searching for \"data-src\"\n",
        "                              image_link = image[\"data-src\"]\n",
        "                          except:\n",
        "                              try:\n",
        "                                  # In image tag ,searching for \"data-fallback-src\"\n",
        "                                  image_link = image[\"data-fallback-src\"]\n",
        "                              except:\n",
        "                                  try:\n",
        "                                      # In image tag ,searching for \"src\"\n",
        "                                      image_link = image[\"src\"]\n",
        "                                  # if no Source URL found\n",
        "                                  except:\n",
        "                                      pass\n",
        "\n",
        "                      try:\n",
        "                        r = requests.get(image_link).content\n",
        "                        # After checking above condition, Image Download start\n",
        "                        extention = pathlib.Path(image_link).suffix\n",
        "                        if extention == \".png\" or extention == \".jpg\" :\n",
        "                          with open(f\"{conf['imgsDir']}{hash}_{i}{extention}\", \"wb\") as f:\n",
        "                              downloaded_imgs.append(f\"{hash}_{i}{extention}\")\n",
        "                              # print(\"img saved!\")\n",
        "                              f.write(r)\n",
        "                              f.close()\n",
        "                        else:\n",
        "                          pass\n",
        "                      except:\n",
        "                        pass\n",
        "                  texts = soup.find_all(string=True)\n",
        "\n",
        "                  visible_texts = filter(self.tag_visible, texts)\n",
        "                  text = u\",\".join(t.strip() for t in visible_texts)\n",
        "                  text = text.lstrip().rstrip()\n",
        "                  text = text.split(',')\n",
        "                  post_text = ''\n",
        "                  for sen in text:\n",
        "                    if sen:\n",
        "                      if len(sen.split(' ')) > 5: # Accept only texts with more than 5 words\n",
        "                        sen = sen.rstrip().lstrip()\n",
        "                        post_text += sen+' '\n",
        "                  if len(post_text.split(' ')) < 6:\n",
        "                    continue\n",
        "                  lck.acquire()\n",
        "                  crawler_csv_file = open(crawled_csv, mode='a')\n",
        "                  crawlerFile_writer = csv.writer(crawler_csv_file, delimiter=',', quotechar='\"', quoting=csv.QUOTE_MINIMAL)\n",
        "                  crawlerFile_writer.writerow([timestamp,hash,link,post_text,downloaded_imgs,\"No\",\"N/A\",\" \"])\n",
        "                  pages_count = pages_count +1\n",
        "                  crawler_csv_file.close()\n",
        "                  lck.release()\n",
        "\n",
        "                  if type(soup.find_all('a')) == 'NoneType':\n",
        "                    print(\"No links found in this page!\")\n",
        "                    continue\n",
        "                  else:\n",
        "                    for a_tag in soup.find_all('a'):\n",
        "                        links = a_tag.get(\"href\")\n",
        "                        if len(domain_have_visited) == 0:\n",
        "                            self.links_queue.put(links,1)\n",
        "                        else:\n",
        "                            if (links not in domain_have_visited) :\n",
        "                              # if (links.find('.html#') == -1): # do not crawl the intra document links\n",
        "                              self.links_queue.put(links,1)\n",
        "\n",
        "                  # print(f\"Adding {link} to the crawled list at {timestamp}\")\n",
        "                  if len(domain_have_visited) != 0:\n",
        "                    self.have_visited[domain].append((link,now))\n",
        "                  else:\n",
        "                    self.have_visited[domain] = [(link,now)]\n",
        "              except URLError as e:\n",
        "                  #print(f\"URL {link} threw this error {e.reason} while trying to parse\")\n",
        "                  self.error_links.append(link)\n",
        "            finally:\n",
        "                self.links_queue.task_done()\n",
        "        print(\"End of thread {}\".format(self.threadNo))"
      ]
    },
    {
      "cell_type": "code",
      "execution_count": null,
      "metadata": {
        "id": "ejQHMq9R9oDT"
      },
      "outputs": [],
      "source": [
        "def count_downloaded_pages():\n",
        "    global speed_samples_10S_ctr\n",
        "    threading.Timer(10, count_downloaded_pages).start()\n",
        "    speed_samples_10S.append(pages_count)\n",
        "    speed_samples_10S_ctr = speed_samples_10S_ctr + 1\n",
        "\n",
        "    print(\"{} total pages downloaded till now & {} threads are active, {} x10 sec\".format(pages_count,threading.active_count(),speed_samples_10S_ctr))\n",
        "\n",
        "    #Each one hour of execution plot the number of download webpages\n",
        "    if speed_samples_10S_ctr > 360:\n",
        "      speed_samples_10S_ctr = 0\n",
        "      plt.plot(speed_samples_10S)\n",
        "      plt.show()\n",
        "\n",
        "    for i,thread in enumerate(crawler_threads):\n",
        "      if thread.is_alive() == False and thread.name == \"crawler\":\n",
        "      #   print(\"Thread No. {} is alive\".format(i))\n",
        "      # else:\n",
        "        # print(\"Thread No. {} is dead \".format(i))\n",
        "        crawler = Crawler(base_url = thread.base_url,\n",
        "                  url_queue = thread.links_queue,\n",
        "                  have_visited= thread.have_visited,\n",
        "                  error_links= thread.error_links,\n",
        "                  url_lock=thread.url_lock,\n",
        "                  thread_num = thread.threadNo)\n",
        "        del crawler_threads[i] #remove the dead thread\n",
        "        crawler.start()\n",
        "        crawler_threads.append(crawler)\n",
        "\n",
        "        crawler.join()\n",
        "      elif thread.is_alive() == False and thread.name == \"classifer\":\n",
        "          classifier = Classifier()\n",
        "          classifier.name=\"classifer\"\n",
        "          del crawler_threads[i] #remove the dead thread\n",
        "          classifier.start()\n",
        "          crawler_threads.append(classifier)\n"
      ]
    },
    {
      "cell_type": "code",
      "execution_count": null,
      "metadata": {
        "id": "JR-82cO6UIYl"
      },
      "outputs": [],
      "source": [
        "def monitor_thread():\n",
        "    global speed_samples_10S_ctr\n",
        "    while True:\n",
        "        time.sleep(10)\n",
        "\n",
        "        speed_samples_10S.append(pages_count)\n",
        "        speed_samples_10S_ctr += 1\n",
        "\n",
        "        print(f\"{pages_count} total pages downloaded, {threading.active_count()} threads active, {speed_samples_10S_ctr} x10 sec\")\n",
        "\n",
        "        if speed_samples_10S_ctr > 360:\n",
        "            speed_samples_10S_ctr = 0\n",
        "            plt.plot(speed_samples_10S)\n",
        "            plt.show()\n",
        "\n",
        "        for i, thread in enumerate(crawler_threads[:]):  # copy to avoid modifying during iteration\n",
        "            if not thread.is_alive():\n",
        "              crawler_threads.remove(thread)\n"
      ]
    },
    {
      "cell_type": "markdown",
      "metadata": {
        "id": "YPA11wBrAZEG"
      },
      "source": [
        "# Main"
      ]
    },
    {
      "cell_type": "code",
      "execution_count": null,
      "metadata": {
        "colab": {
          "base_uri": "https://localhost:8080/",
          "height": 1000
        },
        "id": "o4Y6zmOY8E5i",
        "outputId": "f801c3fa-c28c-4662-d423-120fb26c9bb6"
      },
      "outputs": [
        {
          "name": "stdout",
          "output_type": "stream",
          "text": [
            "The Crawler has the following configuraions:\n",
            "{'dir': '/content/drive/My Drive/KAIST/Spider1/', 'imgsDir': '/content/drive/My Drive/KAIST/Spider1/imgs/', 'base_url': ['https://www.worldhistory.org', 'https://www.newworldencyclopedia.org/', 'https://www.ushistory.org', 'https://www.historic-uk.com/', 'https://hbr.org/', 'https://newpol.org/', 'https://pc.net/', 'https://www.computerhope.com/', 'https://www.computerlanguage.com/'], 'number_of_threads': 9, 'labels': ['technology', 'business', 'politics', 'history'], 'blacklist': ['facebook', 'instagram', 'youtube']}\n",
            "Setup thread no.0 with the following settings:\n",
            "base_url:https://www.worldhistory.org\n",
            "Web Crawler worker <_MainThread(MainThread, started 135702450438784)> has Started\n",
            "Setup thread no.1 with the following settings:\n",
            "base_url:https://www.newworldencyclopedia.org/\n",
            "Web Crawler worker <_MainThread(MainThread, started 135702450438784)> has Started\n",
            "Setup thread no.2 with the following settings:\n",
            "base_url:https://www.ushistory.org\n",
            "Web Crawler worker <_MainThread(MainThread, started 135702450438784)> has Started\n",
            "Setup thread no.3 with the following settings:\n",
            "base_url:https://www.historic-uk.com/\n",
            "Web Crawler worker <_MainThread(MainThread, started 135702450438784)> has Started\n",
            "Setup thread no.4 with the following settings:\n",
            "base_url:https://hbr.org/\n",
            "Web Crawler worker <_MainThread(MainThread, started 135702450438784)> has Started\n",
            "Setup thread no.5 with the following settings:\n",
            "base_url:https://newpol.org/\n",
            "Web Crawler worker <_MainThread(MainThread, started 135702450438784)> has Started\n",
            "Setup thread no.6 with the following settings:\n",
            "base_url:https://pc.net/\n",
            "Web Crawler worker <_MainThread(MainThread, started 135702450438784)> has Started\n",
            "Setup thread no.7 with the following settings:\n",
            "base_url:https://www.computerhope.com/\n",
            "Web Crawler worker <_MainThread(MainThread, started 135702450438784)> has Started\n",
            "Setup thread no.8 with the following settings:\n",
            "base_url:https://www.computerlanguage.com/\n",
            "Web Crawler worker <_MainThread(MainThread, started 135702450438784)> has Started\n"
          ]
        },
        {
          "name": "stderr",
          "output_type": "stream",
          "text": [
            "WARNING:bs4.dammit:Some characters could not be decoded, and were replaced with REPLACEMENT CHARACTER.\n",
            "WARNING:bs4.dammit:Some characters could not be decoded, and were replaced with REPLACEMENT CHARACTER.\n",
            "WARNING:bs4.dammit:Some characters could not be decoded, and were replaced with REPLACEMENT CHARACTER.\n",
            "WARNING:bs4.dammit:Some characters could not be decoded, and were replaced with REPLACEMENT CHARACTER.\n",
            "WARNING:bs4.dammit:Some characters could not be decoded, and were replaced with REPLACEMENT CHARACTER.\n"
          ]
        },
        {
          "name": "stdout",
          "output_type": "stream",
          "text": [
            "117 total pages downloaded, 23 threads active, 1 x10 sec\n"
          ]
        },
        {
          "name": "stderr",
          "output_type": "stream",
          "text": [
            "WARNING:bs4.dammit:Some characters could not be decoded, and were replaced with REPLACEMENT CHARACTER.\n",
            "WARNING:bs4.dammit:Some characters could not be decoded, and were replaced with REPLACEMENT CHARACTER.\n"
          ]
        },
        {
          "name": "stdout",
          "output_type": "stream",
          "text": [
            "151 total pages downloaded, 23 threads active, 2 x10 sec\n",
            "151 total pages downloaded, 23 threads active, 3 x10 sec\n"
          ]
        },
        {
          "name": "stderr",
          "output_type": "stream",
          "text": [
            "You seem to be using the pipelines sequentially on GPU. In order to maximize efficiency please use a dataset\n",
            "Your max_length is set to 60, but your input_length is only 51. Since this is a summarization task, where outputs shorter than the input are typically wanted, you might consider decreasing max_length manually, e.g. summarizer('...', max_length=25)\n",
            "Your max_length is set to 60, but your input_length is only 35. Since this is a summarization task, where outputs shorter than the input are typically wanted, you might consider decreasing max_length manually, e.g. summarizer('...', max_length=17)\n"
          ]
        },
        {
          "name": "stdout",
          "output_type": "stream",
          "text": [
            "158 total pages downloaded, 23 threads active, 4 x10 sec\n"
          ]
        },
        {
          "name": "stderr",
          "output_type": "stream",
          "text": [
            "WARNING:bs4.dammit:Some characters could not be decoded, and were replaced with REPLACEMENT CHARACTER.\n",
            "/usr/local/lib/python3.11/dist-packages/PIL/Image.py:1043: UserWarning: Palette images with Transparency expressed in bytes should be converted to RGBA images\n",
            "  warnings.warn(\n"
          ]
        },
        {
          "name": "stdout",
          "output_type": "stream",
          "text": [
            "166 total pages downloaded, 23 threads active, 5 x10 sec\n"
          ]
        },
        {
          "name": "stderr",
          "output_type": "stream",
          "text": [
            "WARNING:bs4.dammit:Some characters could not be decoded, and were replaced with REPLACEMENT CHARACTER.\n"
          ]
        },
        {
          "name": "stdout",
          "output_type": "stream",
          "text": [
            "173 total pages downloaded, 23 threads active, 6 x10 sec\n",
            "181 total pages downloaded, 23 threads active, 7 x10 sec\n",
            "190 total pages downloaded, 23 threads active, 8 x10 sec\n"
          ]
        },
        {
          "name": "stderr",
          "output_type": "stream",
          "text": [
            "WARNING:bs4.dammit:Some characters could not be decoded, and were replaced with REPLACEMENT CHARACTER.\n"
          ]
        },
        {
          "name": "stdout",
          "output_type": "stream",
          "text": [
            "197 total pages downloaded, 23 threads active, 9 x10 sec\n"
          ]
        },
        {
          "name": "stderr",
          "output_type": "stream",
          "text": [
            "WARNING:bs4.dammit:Some characters could not be decoded, and were replaced with REPLACEMENT CHARACTER.\n"
          ]
        },
        {
          "name": "stdout",
          "output_type": "stream",
          "text": [
            "202 total pages downloaded, 23 threads active, 10 x10 sec\n"
          ]
        },
        {
          "name": "stderr",
          "output_type": "stream",
          "text": [
            "Your max_length is set to 60, but your input_length is only 15. Since this is a summarization task, where outputs shorter than the input are typically wanted, you might consider decreasing max_length manually, e.g. summarizer('...', max_length=7)\n",
            "WARNING:bs4.dammit:Some characters could not be decoded, and were replaced with REPLACEMENT CHARACTER.\n"
          ]
        },
        {
          "name": "stdout",
          "output_type": "stream",
          "text": [
            "212 total pages downloaded, 23 threads active, 11 x10 sec\n"
          ]
        },
        {
          "name": "stderr",
          "output_type": "stream",
          "text": [
            "Your max_length is set to 60, but your input_length is only 18. Since this is a summarization task, where outputs shorter than the input are typically wanted, you might consider decreasing max_length manually, e.g. summarizer('...', max_length=9)\n",
            "WARNING:bs4.dammit:Some characters could not be decoded, and were replaced with REPLACEMENT CHARACTER.\n"
          ]
        },
        {
          "name": "stdout",
          "output_type": "stream",
          "text": [
            "218 total pages downloaded, 23 threads active, 12 x10 sec\n"
          ]
        },
        {
          "name": "stderr",
          "output_type": "stream",
          "text": [
            "WARNING:bs4.dammit:Some characters could not be decoded, and were replaced with REPLACEMENT CHARACTER.\n"
          ]
        },
        {
          "name": "stdout",
          "output_type": "stream",
          "text": [
            "224 total pages downloaded, 23 threads active, 13 x10 sec\n"
          ]
        },
        {
          "name": "stderr",
          "output_type": "stream",
          "text": [
            "WARNING:bs4.dammit:Some characters could not be decoded, and were replaced with REPLACEMENT CHARACTER.\n"
          ]
        },
        {
          "name": "stdout",
          "output_type": "stream",
          "text": [
            "232 total pages downloaded, 23 threads active, 14 x10 sec\n",
            "241 total pages downloaded, 23 threads active, 15 x10 sec\n",
            "249 total pages downloaded, 23 threads active, 16 x10 sec\n"
          ]
        },
        {
          "name": "stderr",
          "output_type": "stream",
          "text": [
            "WARNING:bs4.dammit:Some characters could not be decoded, and were replaced with REPLACEMENT CHARACTER.\n"
          ]
        },
        {
          "name": "stdout",
          "output_type": "stream",
          "text": [
            "256 total pages downloaded, 23 threads active, 17 x10 sec\n"
          ]
        },
        {
          "name": "stderr",
          "output_type": "stream",
          "text": [
            "WARNING:bs4.dammit:Some characters could not be decoded, and were replaced with REPLACEMENT CHARACTER.\n"
          ]
        },
        {
          "name": "stdout",
          "output_type": "stream",
          "text": [
            "Skipped file /content/drive/My Drive/KAIST/Spider1/imgs/12888681_1.jpg\n",
            "Skipped file /content/drive/My Drive/KAIST/Spider1/imgs/12888681_2.jpg\n",
            "Skipped file /content/drive/My Drive/KAIST/Spider1/imgs/12888681_3.jpg\n",
            "Skipped file /content/drive/My Drive/KAIST/Spider1/imgs/12888681_4.jpg\n",
            "Skipped file /content/drive/My Drive/KAIST/Spider1/imgs/12888681_5.jpg\n",
            "Skipped file /content/drive/My Drive/KAIST/Spider1/imgs/12888681_7.jpg\n",
            "Skipped file /content/drive/My Drive/KAIST/Spider1/imgs/12888681_8.jpg\n",
            "Skipped file /content/drive/My Drive/KAIST/Spider1/imgs/12888681_9.jpg\n",
            "Skipped file /content/drive/My Drive/KAIST/Spider1/imgs/12888681_10.jpg\n"
          ]
        },
        {
          "name": "stderr",
          "output_type": "stream",
          "text": [
            "WARNING:bs4.dammit:Some characters could not be decoded, and were replaced with REPLACEMENT CHARACTER.\n"
          ]
        },
        {
          "name": "stdout",
          "output_type": "stream",
          "text": [
            "265 total pages downloaded, 23 threads active, 18 x10 sec\n",
            "271 total pages downloaded, 23 threads active, 19 x10 sec\n"
          ]
        },
        {
          "name": "stderr",
          "output_type": "stream",
          "text": [
            "/usr/local/lib/python3.11/dist-packages/PIL/Image.py:1043: UserWarning: Palette images with Transparency expressed in bytes should be converted to RGBA images\n",
            "  warnings.warn(\n",
            "/usr/local/lib/python3.11/dist-packages/PIL/Image.py:1043: UserWarning: Palette images with Transparency expressed in bytes should be converted to RGBA images\n",
            "  warnings.warn(\n"
          ]
        },
        {
          "name": "stdout",
          "output_type": "stream",
          "text": [
            "Skipped file /content/drive/My Drive/KAIST/Spider1/imgs/10829338_9.jpg\n",
            "Skipped file /content/drive/My Drive/KAIST/Spider1/imgs/10829338_10.jpg\n",
            "Skipped file /content/drive/My Drive/KAIST/Spider1/imgs/10829338_11.png\n",
            "Skipped file /content/drive/My Drive/KAIST/Spider1/imgs/10829338_12.png\n",
            "Skipped file /content/drive/My Drive/KAIST/Spider1/imgs/10829338_13.jpg\n",
            "Skipped file /content/drive/My Drive/KAIST/Spider1/imgs/10829338_14.jpg\n",
            "Skipped file /content/drive/My Drive/KAIST/Spider1/imgs/10829338_15.png\n",
            "Skipped file /content/drive/My Drive/KAIST/Spider1/imgs/10829338_16.png\n",
            "Skipped file /content/drive/My Drive/KAIST/Spider1/imgs/10829338_17.jpg\n",
            "Skipped file /content/drive/My Drive/KAIST/Spider1/imgs/10829338_18.jpg\n",
            "Skipped file /content/drive/My Drive/KAIST/Spider1/imgs/10829338_19.jpg\n",
            "Skipped file /content/drive/My Drive/KAIST/Spider1/imgs/10829338_21.jpg\n",
            "Skipped file /content/drive/My Drive/KAIST/Spider1/imgs/10829338_22.jpg\n",
            "Skipped file /content/drive/My Drive/KAIST/Spider1/imgs/10829338_24.jpg\n",
            "Skipped file /content/drive/My Drive/KAIST/Spider1/imgs/10829338_25.jpg\n",
            "Skipped file /content/drive/My Drive/KAIST/Spider1/imgs/10829338_27.png\n",
            "Skipped file /content/drive/My Drive/KAIST/Spider1/imgs/10829338_28.jpg\n",
            "Skipped file /content/drive/My Drive/KAIST/Spider1/imgs/10829338_29.png\n",
            "Skipped file /content/drive/My Drive/KAIST/Spider1/imgs/10829338_30.png\n",
            "273 total pages downloaded, 23 threads active, 20 x10 sec\n"
          ]
        },
        {
          "name": "stderr",
          "output_type": "stream",
          "text": [
            "Your max_length is set to 60, but your input_length is only 57. Since this is a summarization task, where outputs shorter than the input are typically wanted, you might consider decreasing max_length manually, e.g. summarizer('...', max_length=28)\n",
            "/usr/local/lib/python3.11/dist-packages/PIL/Image.py:1043: UserWarning: Palette images with Transparency expressed in bytes should be converted to RGBA images\n",
            "  warnings.warn(\n"
          ]
        },
        {
          "name": "stdout",
          "output_type": "stream",
          "text": [
            "Skipped file /content/drive/My Drive/KAIST/Spider1/imgs/66202843_0.jpg\n",
            "Skipped file /content/drive/My Drive/KAIST/Spider1/imgs/66202843_5.jpg\n",
            "Skipped file /content/drive/My Drive/KAIST/Spider1/imgs/66202843_6.jpg\n",
            "Skipped file /content/drive/My Drive/KAIST/Spider1/imgs/66202843_8.jpg\n",
            "280 total pages downloaded, 23 threads active, 21 x10 sec\n"
          ]
        },
        {
          "name": "stderr",
          "output_type": "stream",
          "text": [
            "WARNING:bs4.dammit:Some characters could not be decoded, and were replaced with REPLACEMENT CHARACTER.\n",
            "Your max_length is set to 60, but your input_length is only 49. Since this is a summarization task, where outputs shorter than the input are typically wanted, you might consider decreasing max_length manually, e.g. summarizer('...', max_length=24)\n",
            "/usr/local/lib/python3.11/dist-packages/PIL/Image.py:1043: UserWarning: Palette images with Transparency expressed in bytes should be converted to RGBA images\n",
            "  warnings.warn(\n"
          ]
        },
        {
          "name": "stdout",
          "output_type": "stream",
          "text": [
            "Skipped file /content/drive/My Drive/KAIST/Spider1/imgs/18955332_0.jpg\n",
            "Skipped file /content/drive/My Drive/KAIST/Spider1/imgs/18955332_1.jpg\n",
            "Skipped file /content/drive/My Drive/KAIST/Spider1/imgs/18955332_2.jpg\n",
            "Skipped file /content/drive/My Drive/KAIST/Spider1/imgs/18955332_3.jpg\n",
            "Skipped file /content/drive/My Drive/KAIST/Spider1/imgs/18955332_4.jpg\n",
            "Skipped file /content/drive/My Drive/KAIST/Spider1/imgs/18955332_5.jpg\n",
            "Skipped file /content/drive/My Drive/KAIST/Spider1/imgs/18955332_6.jpg\n",
            "Skipped file /content/drive/My Drive/KAIST/Spider1/imgs/18955332_7.jpg\n",
            "Skipped file /content/drive/My Drive/KAIST/Spider1/imgs/18955332_8.jpg\n",
            "Skipped file /content/drive/My Drive/KAIST/Spider1/imgs/18955332_9.jpg\n",
            "Skipped file /content/drive/My Drive/KAIST/Spider1/imgs/18955332_10.jpg\n",
            "288 total pages downloaded, 23 threads active, 22 x10 sec\n"
          ]
        },
        {
          "name": "stderr",
          "output_type": "stream",
          "text": [
            "/usr/local/lib/python3.11/dist-packages/PIL/Image.py:1043: UserWarning: Palette images with Transparency expressed in bytes should be converted to RGBA images\n",
            "  warnings.warn(\n",
            "WARNING:bs4.dammit:Some characters could not be decoded, and were replaced with REPLACEMENT CHARACTER.\n"
          ]
        },
        {
          "name": "stdout",
          "output_type": "stream",
          "text": [
            "Skipped file /content/drive/My Drive/KAIST/Spider1/imgs/54572994_1.jpg\n",
            "Skipped file /content/drive/My Drive/KAIST/Spider1/imgs/54572994_3.jpg\n",
            "Skipped file /content/drive/My Drive/KAIST/Spider1/imgs/54572994_4.jpg\n",
            "Skipped file /content/drive/My Drive/KAIST/Spider1/imgs/54572994_8.jpg\n",
            "Skipped file /content/drive/My Drive/KAIST/Spider1/imgs/54572994_10.jpg\n",
            "294 total pages downloaded, 23 threads active, 23 x10 sec\n"
          ]
        },
        {
          "name": "stderr",
          "output_type": "stream",
          "text": [
            "Your max_length is set to 60, but your input_length is only 56. Since this is a summarization task, where outputs shorter than the input are typically wanted, you might consider decreasing max_length manually, e.g. summarizer('...', max_length=28)\n",
            "/usr/local/lib/python3.11/dist-packages/PIL/Image.py:1043: UserWarning: Palette images with Transparency expressed in bytes should be converted to RGBA images\n",
            "  warnings.warn(\n"
          ]
        },
        {
          "name": "stdout",
          "output_type": "stream",
          "text": [
            "Skipped file /content/drive/My Drive/KAIST/Spider1/imgs/81836362_1.png\n"
          ]
        },
        {
          "name": "stderr",
          "output_type": "stream",
          "text": [
            "WARNING:bs4.dammit:Some characters could not be decoded, and were replaced with REPLACEMENT CHARACTER.\n"
          ]
        },
        {
          "name": "stdout",
          "output_type": "stream",
          "text": [
            "Skipped file /content/drive/My Drive/KAIST/Spider1/imgs/964062_0.jpg\n",
            "Skipped file /content/drive/My Drive/KAIST/Spider1/imgs/964062_4.jpg\n",
            "Skipped file /content/drive/My Drive/KAIST/Spider1/imgs/964062_10.jpg\n",
            "301 total pages downloaded, 23 threads active, 24 x10 sec\n"
          ]
        },
        {
          "name": "stderr",
          "output_type": "stream",
          "text": [
            "WARNING:bs4.dammit:Some characters could not be decoded, and were replaced with REPLACEMENT CHARACTER.\n"
          ]
        },
        {
          "name": "stdout",
          "output_type": "stream",
          "text": [
            "Skipped file /content/drive/My Drive/KAIST/Spider1/imgs/65562459_1.png\n",
            "308 total pages downloaded, 23 threads active, 25 x10 sec\n",
            "Skipped file /content/drive/My Drive/KAIST/Spider1/imgs/45211336_5.jpg\n",
            "Skipped file /content/drive/My Drive/KAIST/Spider1/imgs/45211336_6.jpg\n",
            "Skipped file /content/drive/My Drive/KAIST/Spider1/imgs/45211336_7.jpg\n",
            "Skipped file /content/drive/My Drive/KAIST/Spider1/imgs/45211336_8.jpg\n",
            "Skipped file /content/drive/My Drive/KAIST/Spider1/imgs/45211336_10.jpg\n"
          ]
        },
        {
          "name": "stderr",
          "output_type": "stream",
          "text": [
            "WARNING:bs4.dammit:Some characters could not be decoded, and were replaced with REPLACEMENT CHARACTER.\n"
          ]
        },
        {
          "name": "stdout",
          "output_type": "stream",
          "text": [
            "315 total pages downloaded, 23 threads active, 26 x10 sec\n"
          ]
        },
        {
          "name": "stderr",
          "output_type": "stream",
          "text": [
            "Your max_length is set to 60, but your input_length is only 49. Since this is a summarization task, where outputs shorter than the input are typically wanted, you might consider decreasing max_length manually, e.g. summarizer('...', max_length=24)\n",
            "WARNING:bs4.dammit:Some characters could not be decoded, and were replaced with REPLACEMENT CHARACTER.\n"
          ]
        },
        {
          "name": "stdout",
          "output_type": "stream",
          "text": [
            "Skipped file /content/drive/My Drive/KAIST/Spider1/imgs/88746255_0.jpg\n",
            "Skipped file /content/drive/My Drive/KAIST/Spider1/imgs/88746255_1.jpg\n",
            "Skipped file /content/drive/My Drive/KAIST/Spider1/imgs/88746255_2.jpg\n",
            "Skipped file /content/drive/My Drive/KAIST/Spider1/imgs/88746255_3.jpg\n",
            "Skipped file /content/drive/My Drive/KAIST/Spider1/imgs/88746255_4.jpg\n",
            "Skipped file /content/drive/My Drive/KAIST/Spider1/imgs/88746255_5.jpg\n",
            "Skipped file /content/drive/My Drive/KAIST/Spider1/imgs/88746255_6.jpg\n",
            "Skipped file /content/drive/My Drive/KAIST/Spider1/imgs/88746255_7.jpg\n",
            "Skipped file /content/drive/My Drive/KAIST/Spider1/imgs/88746255_8.jpg\n",
            "Skipped file /content/drive/My Drive/KAIST/Spider1/imgs/88746255_9.jpg\n"
          ]
        },
        {
          "name": "stderr",
          "output_type": "stream",
          "text": [
            "Your max_length is set to 60, but your input_length is only 49. Since this is a summarization task, where outputs shorter than the input are typically wanted, you might consider decreasing max_length manually, e.g. summarizer('...', max_length=24)\n"
          ]
        },
        {
          "name": "stdout",
          "output_type": "stream",
          "text": [
            "Skipped file /content/drive/My Drive/KAIST/Spider1/imgs/22342104_1.png\n"
          ]
        },
        {
          "name": "stderr",
          "output_type": "stream",
          "text": [
            "/usr/local/lib/python3.11/dist-packages/PIL/Image.py:1043: UserWarning: Palette images with Transparency expressed in bytes should be converted to RGBA images\n",
            "  warnings.warn(\n"
          ]
        },
        {
          "name": "stdout",
          "output_type": "stream",
          "text": [
            "325 total pages downloaded, 23 threads active, 27 x10 sec\n"
          ]
        },
        {
          "name": "stderr",
          "output_type": "stream",
          "text": [
            "Your max_length is set to 60, but your input_length is only 49. Since this is a summarization task, where outputs shorter than the input are typically wanted, you might consider decreasing max_length manually, e.g. summarizer('...', max_length=24)\n",
            "WARNING:bs4.dammit:Some characters could not be decoded, and were replaced with REPLACEMENT CHARACTER.\n"
          ]
        },
        {
          "name": "stdout",
          "output_type": "stream",
          "text": [
            "Skipped file /content/drive/My Drive/KAIST/Spider1/imgs/23991185_1.png\n",
            "Skipped file /content/drive/My Drive/KAIST/Spider1/imgs/5677546_4.jpg\n",
            "Skipped file /content/drive/My Drive/KAIST/Spider1/imgs/5677546_5.jpg\n",
            "Skipped file /content/drive/My Drive/KAIST/Spider1/imgs/5677546_6.jpg\n",
            "Skipped file /content/drive/My Drive/KAIST/Spider1/imgs/5677546_7.jpg\n",
            "Skipped file /content/drive/My Drive/KAIST/Spider1/imgs/5677546_8.jpg\n",
            "Skipped file /content/drive/My Drive/KAIST/Spider1/imgs/5677546_9.jpg\n",
            "Skipped file /content/drive/My Drive/KAIST/Spider1/imgs/5677546_10.jpg\n",
            "Skipped file /content/drive/My Drive/KAIST/Spider1/imgs/5677546_11.jpg\n",
            "Skipped file /content/drive/My Drive/KAIST/Spider1/imgs/5677546_12.jpg\n",
            "Skipped file /content/drive/My Drive/KAIST/Spider1/imgs/5677546_13.jpg\n",
            "Skipped file /content/drive/My Drive/KAIST/Spider1/imgs/5677546_14.jpg\n",
            "Skipped file /content/drive/My Drive/KAIST/Spider1/imgs/5677546_15.jpg\n",
            "331 total pages downloaded, 23 threads active, 28 x10 sec\n"
          ]
        },
        {
          "name": "stderr",
          "output_type": "stream",
          "text": [
            "Your max_length is set to 60, but your input_length is only 34. Since this is a summarization task, where outputs shorter than the input are typically wanted, you might consider decreasing max_length manually, e.g. summarizer('...', max_length=17)\n",
            "Your max_length is set to 60, but your input_length is only 49. Since this is a summarization task, where outputs shorter than the input are typically wanted, you might consider decreasing max_length manually, e.g. summarizer('...', max_length=24)\n",
            "WARNING:bs4.dammit:Some characters could not be decoded, and were replaced with REPLACEMENT CHARACTER.\n"
          ]
        },
        {
          "name": "stdout",
          "output_type": "stream",
          "text": [
            "Skipped file /content/drive/My Drive/KAIST/Spider1/imgs/36681799_0.jpg\n",
            "Skipped file /content/drive/My Drive/KAIST/Spider1/imgs/36681799_1.jpg\n",
            "Skipped file /content/drive/My Drive/KAIST/Spider1/imgs/36681799_3.jpg\n",
            "Skipped file /content/drive/My Drive/KAIST/Spider1/imgs/36681799_4.jpg\n",
            "Skipped file /content/drive/My Drive/KAIST/Spider1/imgs/36681799_6.jpg\n",
            "Skipped file /content/drive/My Drive/KAIST/Spider1/imgs/36681799_7.jpg\n",
            "Skipped file /content/drive/My Drive/KAIST/Spider1/imgs/36681799_9.jpg\n",
            "Skipped file /content/drive/My Drive/KAIST/Spider1/imgs/36681799_10.jpg\n",
            "338 total pages downloaded, 23 threads active, 29 x10 sec\n"
          ]
        },
        {
          "name": "stderr",
          "output_type": "stream",
          "text": [
            "Your max_length is set to 60, but your input_length is only 9. Since this is a summarization task, where outputs shorter than the input are typically wanted, you might consider decreasing max_length manually, e.g. summarizer('...', max_length=4)\n",
            "WARNING:bs4.dammit:Some characters could not be decoded, and were replaced with REPLACEMENT CHARACTER.\n"
          ]
        },
        {
          "name": "stdout",
          "output_type": "stream",
          "text": [
            "Skipped file /content/drive/My Drive/KAIST/Spider1/imgs/79925442_0.jpg\n",
            "345 total pages downloaded, 23 threads active, 30 x10 sec\n",
            "Skipped file /content/drive/My Drive/KAIST/Spider1/imgs/62656426_1.png\n"
          ]
        },
        {
          "name": "stderr",
          "output_type": "stream",
          "text": [
            "Your max_length is set to 60, but your input_length is only 49. Since this is a summarization task, where outputs shorter than the input are typically wanted, you might consider decreasing max_length manually, e.g. summarizer('...', max_length=24)\n",
            "WARNING:bs4.dammit:Some characters could not be decoded, and were replaced with REPLACEMENT CHARACTER.\n"
          ]
        },
        {
          "name": "stdout",
          "output_type": "stream",
          "text": [
            "Skipped file /content/drive/My Drive/KAIST/Spider1/imgs/95998116_0.jpg\n",
            "Skipped file /content/drive/My Drive/KAIST/Spider1/imgs/95998116_2.png\n",
            "Skipped file /content/drive/My Drive/KAIST/Spider1/imgs/95998116_3.jpg\n",
            "Skipped file /content/drive/My Drive/KAIST/Spider1/imgs/95998116_6.jpg\n",
            "Skipped file /content/drive/My Drive/KAIST/Spider1/imgs/95998116_7.jpg\n",
            "Skipped file /content/drive/My Drive/KAIST/Spider1/imgs/95998116_8.jpg\n",
            "Skipped file /content/drive/My Drive/KAIST/Spider1/imgs/95998116_9.jpg\n",
            "Skipped file /content/drive/My Drive/KAIST/Spider1/imgs/95998116_10.jpg\n",
            "353 total pages downloaded, 23 threads active, 31 x10 sec\n"
          ]
        },
        {
          "name": "stderr",
          "output_type": "stream",
          "text": [
            "Your max_length is set to 60, but your input_length is only 49. Since this is a summarization task, where outputs shorter than the input are typically wanted, you might consider decreasing max_length manually, e.g. summarizer('...', max_length=24)\n",
            "Your max_length is set to 60, but your input_length is only 48. Since this is a summarization task, where outputs shorter than the input are typically wanted, you might consider decreasing max_length manually, e.g. summarizer('...', max_length=24)\n",
            "WARNING:bs4.dammit:Some characters could not be decoded, and were replaced with REPLACEMENT CHARACTER.\n",
            "Your max_length is set to 60, but your input_length is only 49. Since this is a summarization task, where outputs shorter than the input are typically wanted, you might consider decreasing max_length manually, e.g. summarizer('...', max_length=24)\n"
          ]
        },
        {
          "name": "stdout",
          "output_type": "stream",
          "text": [
            "Skipped file /content/drive/My Drive/KAIST/Spider1/imgs/11027400_0.jpg\n",
            "Skipped file /content/drive/My Drive/KAIST/Spider1/imgs/11027400_4.jpg\n",
            "Skipped file /content/drive/My Drive/KAIST/Spider1/imgs/11027400_5.jpg\n",
            "Skipped file /content/drive/My Drive/KAIST/Spider1/imgs/11027400_6.jpg\n",
            "Skipped file /content/drive/My Drive/KAIST/Spider1/imgs/11027400_8.jpg\n",
            "Skipped file /content/drive/My Drive/KAIST/Spider1/imgs/11027400_9.jpg\n",
            "Skipped file /content/drive/My Drive/KAIST/Spider1/imgs/11027400_10.png\n",
            "360 total pages downloaded, 23 threads active, 32 x10 sec\n",
            "Skipped file /content/drive/My Drive/KAIST/Spider1/imgs/20557862_1.jpg\n",
            "Skipped file /content/drive/My Drive/KAIST/Spider1/imgs/20557862_2.jpg\n",
            "Skipped file /content/drive/My Drive/KAIST/Spider1/imgs/20557862_3.jpg\n",
            "Skipped file /content/drive/My Drive/KAIST/Spider1/imgs/20557862_7.jpg\n",
            "Skipped file /content/drive/My Drive/KAIST/Spider1/imgs/20557862_8.jpg\n",
            "Skipped file /content/drive/My Drive/KAIST/Spider1/imgs/20557862_9.jpg\n",
            "Skipped file /content/drive/My Drive/KAIST/Spider1/imgs/20557862_11.jpg\n",
            "Skipped file /content/drive/My Drive/KAIST/Spider1/imgs/20557862_12.jpg\n",
            "Skipped file /content/drive/My Drive/KAIST/Spider1/imgs/20557862_15.jpg\n",
            "Skipped file /content/drive/My Drive/KAIST/Spider1/imgs/20557862_16.jpg\n",
            "Skipped file /content/drive/My Drive/KAIST/Spider1/imgs/20557862_18.jpg\n",
            "Skipped file /content/drive/My Drive/KAIST/Spider1/imgs/20557862_19.jpg\n",
            "Skipped file /content/drive/My Drive/KAIST/Spider1/imgs/20557862_20.jpg\n",
            "Skipped file /content/drive/My Drive/KAIST/Spider1/imgs/20557862_21.png\n",
            "Skipped file /content/drive/My Drive/KAIST/Spider1/imgs/20557862_22.jpg\n",
            "Skipped file /content/drive/My Drive/KAIST/Spider1/imgs/20557862_23.png\n"
          ]
        },
        {
          "name": "stderr",
          "output_type": "stream",
          "text": [
            "Your max_length is set to 60, but your input_length is only 55. Since this is a summarization task, where outputs shorter than the input are typically wanted, you might consider decreasing max_length manually, e.g. summarizer('...', max_length=27)\n",
            "WARNING:bs4.dammit:Some characters could not be decoded, and were replaced with REPLACEMENT CHARACTER.\n"
          ]
        },
        {
          "name": "stdout",
          "output_type": "stream",
          "text": [
            "Skipped file /content/drive/My Drive/KAIST/Spider1/imgs/17010713_0.jpg\n",
            "Skipped file /content/drive/My Drive/KAIST/Spider1/imgs/17010713_10.jpg\n",
            "Skipped file /content/drive/My Drive/KAIST/Spider1/imgs/17010713_11.jpg\n",
            "Skipped file /content/drive/My Drive/KAIST/Spider1/imgs/17010713_12.jpg\n",
            "Skipped file /content/drive/My Drive/KAIST/Spider1/imgs/17010713_20.jpg\n",
            "Skipped file /content/drive/My Drive/KAIST/Spider1/imgs/17010713_22.jpg\n",
            "Skipped file /content/drive/My Drive/KAIST/Spider1/imgs/17010713_23.jpg\n",
            "Skipped file /content/drive/My Drive/KAIST/Spider1/imgs/17010713_27.jpg\n",
            "Skipped file /content/drive/My Drive/KAIST/Spider1/imgs/17010713_29.jpg\n",
            "366 total pages downloaded, 23 threads active, 33 x10 sec\n"
          ]
        },
        {
          "name": "stderr",
          "output_type": "stream",
          "text": [
            "Your max_length is set to 60, but your input_length is only 56. Since this is a summarization task, where outputs shorter than the input are typically wanted, you might consider decreasing max_length manually, e.g. summarizer('...', max_length=28)\n",
            "WARNING:bs4.dammit:Some characters could not be decoded, and were replaced with REPLACEMENT CHARACTER.\n",
            "Your max_length is set to 60, but your input_length is only 49. Since this is a summarization task, where outputs shorter than the input are typically wanted, you might consider decreasing max_length manually, e.g. summarizer('...', max_length=24)\n"
          ]
        },
        {
          "name": "stdout",
          "output_type": "stream",
          "text": [
            "373 total pages downloaded, 23 threads active, 34 x10 sec\n"
          ]
        },
        {
          "name": "stderr",
          "output_type": "stream",
          "text": [
            "/usr/local/lib/python3.11/dist-packages/PIL/Image.py:1043: UserWarning: Palette images with Transparency expressed in bytes should be converted to RGBA images\n",
            "  warnings.warn(\n"
          ]
        },
        {
          "name": "stdout",
          "output_type": "stream",
          "text": [
            "Skipped file /content/drive/My Drive/KAIST/Spider1/imgs/87225299_3.jpg\n",
            "Skipped file /content/drive/My Drive/KAIST/Spider1/imgs/87225299_4.jpg\n",
            "Skipped file /content/drive/My Drive/KAIST/Spider1/imgs/87225299_6.jpg\n",
            "Skipped file /content/drive/My Drive/KAIST/Spider1/imgs/87225299_7.jpg\n",
            "Skipped file /content/drive/My Drive/KAIST/Spider1/imgs/87225299_8.jpg\n",
            "Skipped file /content/drive/My Drive/KAIST/Spider1/imgs/87225299_9.jpg\n",
            "Skipped file /content/drive/My Drive/KAIST/Spider1/imgs/87225299_10.jpg\n",
            "Skipped file /content/drive/My Drive/KAIST/Spider1/imgs/63557440_1.jpg\n",
            "Skipped file /content/drive/My Drive/KAIST/Spider1/imgs/63557440_3.jpg\n",
            "Skipped file /content/drive/My Drive/KAIST/Spider1/imgs/63557440_4.jpg\n",
            "Skipped file /content/drive/My Drive/KAIST/Spider1/imgs/63557440_5.jpg\n",
            "Skipped file /content/drive/My Drive/KAIST/Spider1/imgs/63557440_6.jpg\n",
            "Skipped file /content/drive/My Drive/KAIST/Spider1/imgs/63557440_7.jpg\n",
            "Skipped file /content/drive/My Drive/KAIST/Spider1/imgs/63557440_8.png\n",
            "Skipped file /content/drive/My Drive/KAIST/Spider1/imgs/63557440_9.jpg\n",
            "Skipped file /content/drive/My Drive/KAIST/Spider1/imgs/63557440_10.jpg\n",
            "Skipped file /content/drive/My Drive/KAIST/Spider1/imgs/63557440_11.jpg\n",
            "Skipped file /content/drive/My Drive/KAIST/Spider1/imgs/63557440_12.jpg\n",
            "Skipped file /content/drive/My Drive/KAIST/Spider1/imgs/63557440_13.jpg\n",
            "Skipped file /content/drive/My Drive/KAIST/Spider1/imgs/63557440_14.jpg\n",
            "Skipped file /content/drive/My Drive/KAIST/Spider1/imgs/63557440_15.jpg\n",
            "Skipped file /content/drive/My Drive/KAIST/Spider1/imgs/63557440_17.jpg\n",
            "Skipped file /content/drive/My Drive/KAIST/Spider1/imgs/63557440_18.jpg\n",
            "Skipped file /content/drive/My Drive/KAIST/Spider1/imgs/63557440_19.jpg\n",
            "Skipped file /content/drive/My Drive/KAIST/Spider1/imgs/63557440_20.jpg\n",
            "Skipped file /content/drive/My Drive/KAIST/Spider1/imgs/63557440_21.jpg\n",
            "Skipped file /content/drive/My Drive/KAIST/Spider1/imgs/63557440_22.png\n"
          ]
        },
        {
          "name": "stderr",
          "output_type": "stream",
          "text": [
            "WARNING:bs4.dammit:Some characters could not be decoded, and were replaced with REPLACEMENT CHARACTER.\n",
            "Your max_length is set to 60, but your input_length is only 51. Since this is a summarization task, where outputs shorter than the input are typically wanted, you might consider decreasing max_length manually, e.g. summarizer('...', max_length=25)\n"
          ]
        },
        {
          "name": "stdout",
          "output_type": "stream",
          "text": [
            "381 total pages downloaded, 23 threads active, 35 x10 sec\n"
          ]
        },
        {
          "name": "stderr",
          "output_type": "stream",
          "text": [
            "Your max_length is set to 60, but your input_length is only 49. Since this is a summarization task, where outputs shorter than the input are typically wanted, you might consider decreasing max_length manually, e.g. summarizer('...', max_length=24)\n"
          ]
        },
        {
          "name": "stdout",
          "output_type": "stream",
          "text": [
            "Skipped file /content/drive/My Drive/KAIST/Spider1/imgs/37585755_0.jpg\n",
            "Skipped file /content/drive/My Drive/KAIST/Spider1/imgs/65588636_1.png\n"
          ]
        },
        {
          "name": "stderr",
          "output_type": "stream",
          "text": [
            "Your max_length is set to 60, but your input_length is only 51. Since this is a summarization task, where outputs shorter than the input are typically wanted, you might consider decreasing max_length manually, e.g. summarizer('...', max_length=25)\n",
            "Your max_length is set to 60, but your input_length is only 54. Since this is a summarization task, where outputs shorter than the input are typically wanted, you might consider decreasing max_length manually, e.g. summarizer('...', max_length=27)\n",
            "Your max_length is set to 60, but your input_length is only 49. Since this is a summarization task, where outputs shorter than the input are typically wanted, you might consider decreasing max_length manually, e.g. summarizer('...', max_length=24)\n"
          ]
        },
        {
          "name": "stdout",
          "output_type": "stream",
          "text": [
            "388 total pages downloaded, 23 threads active, 36 x10 sec\n",
            "Skipped file /content/drive/My Drive/KAIST/Spider1/imgs/34317155_0.jpg\n",
            "Skipped file /content/drive/My Drive/KAIST/Spider1/imgs/34317155_1.jpg\n",
            "Skipped file /content/drive/My Drive/KAIST/Spider1/imgs/34317155_4.jpg\n",
            "Skipped file /content/drive/My Drive/KAIST/Spider1/imgs/34317155_5.jpg\n",
            "Skipped file /content/drive/My Drive/KAIST/Spider1/imgs/34317155_6.jpg\n",
            "Skipped file /content/drive/My Drive/KAIST/Spider1/imgs/34317155_7.jpg\n",
            "Skipped file /content/drive/My Drive/KAIST/Spider1/imgs/34317155_8.jpg\n",
            "Skipped file /content/drive/My Drive/KAIST/Spider1/imgs/34317155_9.jpg\n",
            "Skipped file /content/drive/My Drive/KAIST/Spider1/imgs/34317155_10.jpg\n"
          ]
        },
        {
          "name": "stderr",
          "output_type": "stream",
          "text": [
            "Your max_length is set to 60, but your input_length is only 51. Since this is a summarization task, where outputs shorter than the input are typically wanted, you might consider decreasing max_length manually, e.g. summarizer('...', max_length=25)\n",
            "WARNING:bs4.dammit:Some characters could not be decoded, and were replaced with REPLACEMENT CHARACTER.\n"
          ]
        },
        {
          "name": "stdout",
          "output_type": "stream",
          "text": [
            "394 total pages downloaded, 23 threads active, 37 x10 sec\n",
            "Skipped file /content/drive/My Drive/KAIST/Spider1/imgs/69685685_3.jpg\n",
            "Skipped file /content/drive/My Drive/KAIST/Spider1/imgs/69685685_4.jpg\n",
            "Skipped file /content/drive/My Drive/KAIST/Spider1/imgs/69685685_5.jpg\n",
            "Skipped file /content/drive/My Drive/KAIST/Spider1/imgs/69685685_6.jpg\n",
            "Skipped file /content/drive/My Drive/KAIST/Spider1/imgs/69685685_7.jpg\n",
            "Skipped file /content/drive/My Drive/KAIST/Spider1/imgs/69685685_8.jpg\n",
            "Skipped file /content/drive/My Drive/KAIST/Spider1/imgs/32588921_1.png\n",
            "Skipped file /content/drive/My Drive/KAIST/Spider1/imgs/32588921_2.jpg\n",
            "Skipped file /content/drive/My Drive/KAIST/Spider1/imgs/32588921_3.jpg\n",
            "Skipped file /content/drive/My Drive/KAIST/Spider1/imgs/32588921_4.png\n",
            "Skipped file /content/drive/My Drive/KAIST/Spider1/imgs/32588921_5.png\n",
            "Skipped file /content/drive/My Drive/KAIST/Spider1/imgs/32588921_6.jpg\n",
            "Skipped file /content/drive/My Drive/KAIST/Spider1/imgs/32588921_7.jpg\n",
            "Skipped file /content/drive/My Drive/KAIST/Spider1/imgs/32588921_8.jpg\n",
            "Skipped file /content/drive/My Drive/KAIST/Spider1/imgs/32588921_10.jpg\n",
            "Skipped file /content/drive/My Drive/KAIST/Spider1/imgs/32588921_12.jpg\n",
            "Skipped file /content/drive/My Drive/KAIST/Spider1/imgs/32588921_13.png\n"
          ]
        },
        {
          "name": "stderr",
          "output_type": "stream",
          "text": [
            "Your max_length is set to 60, but your input_length is only 42. Since this is a summarization task, where outputs shorter than the input are typically wanted, you might consider decreasing max_length manually, e.g. summarizer('...', max_length=21)\n",
            "WARNING:bs4.dammit:Some characters could not be decoded, and were replaced with REPLACEMENT CHARACTER.\n",
            "Your max_length is set to 60, but your input_length is only 55. Since this is a summarization task, where outputs shorter than the input are typically wanted, you might consider decreasing max_length manually, e.g. summarizer('...', max_length=27)\n"
          ]
        },
        {
          "name": "stdout",
          "output_type": "stream",
          "text": [
            "399 total pages downloaded, 23 threads active, 38 x10 sec\n",
            "Skipped file /content/drive/My Drive/KAIST/Spider1/imgs/75355659_1.png\n",
            "Skipped file /content/drive/My Drive/KAIST/Spider1/imgs/20809260_0.jpg\n",
            "Skipped file /content/drive/My Drive/KAIST/Spider1/imgs/20809260_2.jpg\n",
            "Skipped file /content/drive/My Drive/KAIST/Spider1/imgs/20809260_3.jpg\n",
            "Skipped file /content/drive/My Drive/KAIST/Spider1/imgs/20809260_4.jpg\n",
            "Skipped file /content/drive/My Drive/KAIST/Spider1/imgs/20809260_5.jpg\n",
            "Skipped file /content/drive/My Drive/KAIST/Spider1/imgs/20809260_6.jpg\n",
            "Skipped file /content/drive/My Drive/KAIST/Spider1/imgs/20809260_7.jpg\n",
            "Skipped file /content/drive/My Drive/KAIST/Spider1/imgs/20809260_8.jpg\n"
          ]
        },
        {
          "name": "stderr",
          "output_type": "stream",
          "text": [
            "WARNING:bs4.dammit:Some characters could not be decoded, and were replaced with REPLACEMENT CHARACTER.\n",
            "Your max_length is set to 60, but your input_length is only 49. Since this is a summarization task, where outputs shorter than the input are typically wanted, you might consider decreasing max_length manually, e.g. summarizer('...', max_length=24)\n"
          ]
        },
        {
          "name": "stdout",
          "output_type": "stream",
          "text": [
            "408 total pages downloaded, 23 threads active, 39 x10 sec\n"
          ]
        },
        {
          "name": "stderr",
          "output_type": "stream",
          "text": [
            "Your max_length is set to 60, but your input_length is only 42. Since this is a summarization task, where outputs shorter than the input are typically wanted, you might consider decreasing max_length manually, e.g. summarizer('...', max_length=21)\n",
            "Your max_length is set to 60, but your input_length is only 49. Since this is a summarization task, where outputs shorter than the input are typically wanted, you might consider decreasing max_length manually, e.g. summarizer('...', max_length=24)\n"
          ]
        },
        {
          "name": "stdout",
          "output_type": "stream",
          "text": [
            "Skipped file /content/drive/My Drive/KAIST/Spider1/imgs/90352157_1.png\n",
            "Skipped file /content/drive/My Drive/KAIST/Spider1/imgs/30796698_0.jpg\n"
          ]
        },
        {
          "name": "stderr",
          "output_type": "stream",
          "text": [
            "WARNING:bs4.dammit:Some characters could not be decoded, and were replaced with REPLACEMENT CHARACTER.\n"
          ]
        },
        {
          "name": "stdout",
          "output_type": "stream",
          "text": [
            "414 total pages downloaded, 23 threads active, 40 x10 sec\n"
          ]
        },
        {
          "name": "stderr",
          "output_type": "stream",
          "text": [
            "Your max_length is set to 60, but your input_length is only 49. Since this is a summarization task, where outputs shorter than the input are typically wanted, you might consider decreasing max_length manually, e.g. summarizer('...', max_length=24)\n"
          ]
        },
        {
          "name": "stdout",
          "output_type": "stream",
          "text": [
            "Skipped file /content/drive/My Drive/KAIST/Spider1/imgs/22901999_0.jpg\n",
            "Skipped file /content/drive/My Drive/KAIST/Spider1/imgs/22901999_3.jpg\n",
            "Skipped file /content/drive/My Drive/KAIST/Spider1/imgs/22901999_5.jpg\n",
            "Skipped file /content/drive/My Drive/KAIST/Spider1/imgs/22901999_7.jpg\n",
            "Skipped file /content/drive/My Drive/KAIST/Spider1/imgs/22901999_8.jpg\n",
            "Skipped file /content/drive/My Drive/KAIST/Spider1/imgs/22901999_9.jpg\n",
            "Skipped file /content/drive/My Drive/KAIST/Spider1/imgs/22901999_10.jpg\n",
            "Skipped file /content/drive/My Drive/KAIST/Spider1/imgs/82399395_2.jpg\n",
            "Skipped file /content/drive/My Drive/KAIST/Spider1/imgs/82399395_3.png\n"
          ]
        },
        {
          "name": "stderr",
          "output_type": "stream",
          "text": [
            "WARNING:bs4.dammit:Some characters could not be decoded, and were replaced with REPLACEMENT CHARACTER.\n"
          ]
        },
        {
          "name": "stdout",
          "output_type": "stream",
          "text": [
            "421 total pages downloaded, 23 threads active, 41 x10 sec\n"
          ]
        },
        {
          "name": "stderr",
          "output_type": "stream",
          "text": [
            "Your max_length is set to 60, but your input_length is only 51. Since this is a summarization task, where outputs shorter than the input are typically wanted, you might consider decreasing max_length manually, e.g. summarizer('...', max_length=25)\n"
          ]
        },
        {
          "name": "stdout",
          "output_type": "stream",
          "text": [
            "Skipped file /content/drive/My Drive/KAIST/Spider1/imgs/69129874_2.jpg\n",
            "Skipped file /content/drive/My Drive/KAIST/Spider1/imgs/69129874_3.jpg\n",
            "Skipped file /content/drive/My Drive/KAIST/Spider1/imgs/69129874_4.jpg\n",
            "Skipped file /content/drive/My Drive/KAIST/Spider1/imgs/69129874_5.jpg\n",
            "Skipped file /content/drive/My Drive/KAIST/Spider1/imgs/69129874_6.jpg\n",
            "Skipped file /content/drive/My Drive/KAIST/Spider1/imgs/69129874_7.jpg\n",
            "Skipped file /content/drive/My Drive/KAIST/Spider1/imgs/69129874_8.jpg\n",
            "Skipped file /content/drive/My Drive/KAIST/Spider1/imgs/69129874_9.jpg\n",
            "Skipped file /content/drive/My Drive/KAIST/Spider1/imgs/69129874_10.jpg\n"
          ]
        },
        {
          "name": "stderr",
          "output_type": "stream",
          "text": [
            "WARNING:bs4.dammit:Some characters could not be decoded, and were replaced with REPLACEMENT CHARACTER.\n"
          ]
        },
        {
          "name": "stdout",
          "output_type": "stream",
          "text": [
            "Skipped file /content/drive/My Drive/KAIST/Spider1/imgs/66051380_1.jpg\n",
            "Skipped file /content/drive/My Drive/KAIST/Spider1/imgs/66051380_2.jpg\n",
            "Skipped file /content/drive/My Drive/KAIST/Spider1/imgs/66051380_3.png\n",
            "428 total pages downloaded, 23 threads active, 42 x10 sec\n",
            "Skipped file /content/drive/My Drive/KAIST/Spider1/imgs/65582943_1.jpg\n",
            "Skipped file /content/drive/My Drive/KAIST/Spider1/imgs/65582943_2.jpg\n",
            "Skipped file /content/drive/My Drive/KAIST/Spider1/imgs/65582943_3.jpg\n",
            "Skipped file /content/drive/My Drive/KAIST/Spider1/imgs/65582943_4.jpg\n",
            "Skipped file /content/drive/My Drive/KAIST/Spider1/imgs/65582943_6.jpg\n",
            "Skipped file /content/drive/My Drive/KAIST/Spider1/imgs/65582943_7.jpg\n",
            "Skipped file /content/drive/My Drive/KAIST/Spider1/imgs/65582943_8.jpg\n",
            "Skipped file /content/drive/My Drive/KAIST/Spider1/imgs/65582943_9.jpg\n"
          ]
        },
        {
          "name": "stderr",
          "output_type": "stream",
          "text": [
            "WARNING:bs4.dammit:Some characters could not be decoded, and were replaced with REPLACEMENT CHARACTER.\n"
          ]
        },
        {
          "name": "stdout",
          "output_type": "stream",
          "text": [
            "Skipped file /content/drive/My Drive/KAIST/Spider1/imgs/11428387_1.jpg\n",
            "Skipped file /content/drive/My Drive/KAIST/Spider1/imgs/11428387_2.jpg\n",
            "Skipped file /content/drive/My Drive/KAIST/Spider1/imgs/11428387_3.png\n"
          ]
        },
        {
          "name": "stderr",
          "output_type": "stream",
          "text": [
            "Your max_length is set to 60, but your input_length is only 59. Since this is a summarization task, where outputs shorter than the input are typically wanted, you might consider decreasing max_length manually, e.g. summarizer('...', max_length=29)\n"
          ]
        },
        {
          "name": "stdout",
          "output_type": "stream",
          "text": [
            "435 total pages downloaded, 23 threads active, 43 x10 sec\n"
          ]
        },
        {
          "name": "stderr",
          "output_type": "stream",
          "text": [
            "/usr/local/lib/python3.11/dist-packages/PIL/Image.py:1043: UserWarning: Palette images with Transparency expressed in bytes should be converted to RGBA images\n",
            "  warnings.warn(\n"
          ]
        },
        {
          "name": "stdout",
          "output_type": "stream",
          "text": [
            "Skipped file /content/drive/My Drive/KAIST/Spider1/imgs/45776168_0.jpg\n",
            "Skipped file /content/drive/My Drive/KAIST/Spider1/imgs/45776168_1.jpg\n",
            "Skipped file /content/drive/My Drive/KAIST/Spider1/imgs/45776168_3.jpg\n",
            "Skipped file /content/drive/My Drive/KAIST/Spider1/imgs/45776168_5.jpg\n",
            "Skipped file /content/drive/My Drive/KAIST/Spider1/imgs/45776168_6.jpg\n",
            "Skipped file /content/drive/My Drive/KAIST/Spider1/imgs/45776168_7.jpg\n",
            "Skipped file /content/drive/My Drive/KAIST/Spider1/imgs/45776168_9.jpg\n",
            "Skipped file /content/drive/My Drive/KAIST/Spider1/imgs/45776168_10.jpg\n"
          ]
        },
        {
          "name": "stderr",
          "output_type": "stream",
          "text": [
            "Your max_length is set to 60, but your input_length is only 59. Since this is a summarization task, where outputs shorter than the input are typically wanted, you might consider decreasing max_length manually, e.g. summarizer('...', max_length=29)\n"
          ]
        },
        {
          "name": "stdout",
          "output_type": "stream",
          "text": [
            "Skipped file /content/drive/My Drive/KAIST/Spider1/imgs/90575647_2.jpg\n",
            "Skipped file /content/drive/My Drive/KAIST/Spider1/imgs/90575647_4.png\n",
            "442 total pages downloaded, 23 threads active, 44 x10 sec\n"
          ]
        },
        {
          "name": "stderr",
          "output_type": "stream",
          "text": [
            "Your max_length is set to 60, but your input_length is only 51. Since this is a summarization task, where outputs shorter than the input are typically wanted, you might consider decreasing max_length manually, e.g. summarizer('...', max_length=25)\n",
            "Your max_length is set to 60, but your input_length is only 51. Since this is a summarization task, where outputs shorter than the input are typically wanted, you might consider decreasing max_length manually, e.g. summarizer('...', max_length=25)\n",
            "WARNING:bs4.dammit:Some characters could not be decoded, and were replaced with REPLACEMENT CHARACTER.\n"
          ]
        },
        {
          "name": "stdout",
          "output_type": "stream",
          "text": [
            "Skipped file /content/drive/My Drive/KAIST/Spider1/imgs/58934213_0.jpg\n",
            "Skipped file /content/drive/My Drive/KAIST/Spider1/imgs/58934213_4.jpg\n",
            "Skipped file /content/drive/My Drive/KAIST/Spider1/imgs/58934213_5.jpg\n",
            "Skipped file /content/drive/My Drive/KAIST/Spider1/imgs/58934213_6.jpg\n",
            "Skipped file /content/drive/My Drive/KAIST/Spider1/imgs/58934213_7.jpg\n",
            "Skipped file /content/drive/My Drive/KAIST/Spider1/imgs/58934213_8.jpg\n",
            "Skipped file /content/drive/My Drive/KAIST/Spider1/imgs/58934213_9.jpg\n",
            "Skipped file /content/drive/My Drive/KAIST/Spider1/imgs/58934213_10.jpg\n",
            "Skipped file /content/drive/My Drive/KAIST/Spider1/imgs/44960103_1.jpg\n",
            "Skipped file /content/drive/My Drive/KAIST/Spider1/imgs/44960103_2.jpg\n",
            "Skipped file /content/drive/My Drive/KAIST/Spider1/imgs/44960103_4.png\n",
            "448 total pages downloaded, 23 threads active, 45 x10 sec\n"
          ]
        },
        {
          "name": "stderr",
          "output_type": "stream",
          "text": [
            "Your max_length is set to 60, but your input_length is only 51. Since this is a summarization task, where outputs shorter than the input are typically wanted, you might consider decreasing max_length manually, e.g. summarizer('...', max_length=25)\n"
          ]
        },
        {
          "name": "stdout",
          "output_type": "stream",
          "text": [
            "Skipped file /content/drive/My Drive/KAIST/Spider1/imgs/90291037_2.jpg\n",
            "Skipped file /content/drive/My Drive/KAIST/Spider1/imgs/90291037_3.jpg\n",
            "Skipped file /content/drive/My Drive/KAIST/Spider1/imgs/90291037_4.jpg\n",
            "Skipped file /content/drive/My Drive/KAIST/Spider1/imgs/90291037_5.jpg\n",
            "Skipped file /content/drive/My Drive/KAIST/Spider1/imgs/90291037_6.jpg\n",
            "Skipped file /content/drive/My Drive/KAIST/Spider1/imgs/90291037_7.jpg\n",
            "Skipped file /content/drive/My Drive/KAIST/Spider1/imgs/90291037_8.jpg\n",
            "Skipped file /content/drive/My Drive/KAIST/Spider1/imgs/90291037_9.jpg\n",
            "Skipped file /content/drive/My Drive/KAIST/Spider1/imgs/90291037_10.jpg\n"
          ]
        },
        {
          "name": "stderr",
          "output_type": "stream",
          "text": [
            "WARNING:bs4.dammit:Some characters could not be decoded, and were replaced with REPLACEMENT CHARACTER.\n"
          ]
        },
        {
          "name": "stdout",
          "output_type": "stream",
          "text": [
            "Skipped file /content/drive/My Drive/KAIST/Spider1/imgs/2882029_3.png\n",
            "456 total pages downloaded, 23 threads active, 46 x10 sec\n",
            "Skipped file /content/drive/My Drive/KAIST/Spider1/imgs/19476851_0.jpg\n",
            "463 total pages downloaded, 23 threads active, 47 x10 sec\n",
            "Skipped file /content/drive/My Drive/KAIST/Spider1/imgs/42801768_1.png\n",
            "Skipped file /content/drive/My Drive/KAIST/Spider1/imgs/42801768_2.png\n",
            "Skipped file /content/drive/My Drive/KAIST/Spider1/imgs/42801768_3.jpg\n",
            "Skipped file /content/drive/My Drive/KAIST/Spider1/imgs/42801768_4.png\n"
          ]
        },
        {
          "name": "stderr",
          "output_type": "stream",
          "text": [
            "Your max_length is set to 60, but your input_length is only 58. Since this is a summarization task, where outputs shorter than the input are typically wanted, you might consider decreasing max_length manually, e.g. summarizer('...', max_length=29)\n"
          ]
        },
        {
          "name": "stdout",
          "output_type": "stream",
          "text": [
            "468 total pages downloaded, 23 threads active, 48 x10 sec\n",
            "Skipped file /content/drive/My Drive/KAIST/Spider1/imgs/20749335_1.jpg\n",
            "Skipped file /content/drive/My Drive/KAIST/Spider1/imgs/20749335_2.jpg\n",
            "Skipped file /content/drive/My Drive/KAIST/Spider1/imgs/20749335_3.png\n"
          ]
        },
        {
          "name": "stderr",
          "output_type": "stream",
          "text": [
            "/usr/local/lib/python3.11/dist-packages/PIL/Image.py:1043: UserWarning: Palette images with Transparency expressed in bytes should be converted to RGBA images\n",
            "  warnings.warn(\n"
          ]
        },
        {
          "name": "stdout",
          "output_type": "stream",
          "text": [
            "Skipped file /content/drive/My Drive/KAIST/Spider1/imgs/5949646_0.jpg\n",
            "Skipped file /content/drive/My Drive/KAIST/Spider1/imgs/5949646_1.jpg\n",
            "Skipped file /content/drive/My Drive/KAIST/Spider1/imgs/5949646_2.jpg\n",
            "Skipped file /content/drive/My Drive/KAIST/Spider1/imgs/5949646_3.jpg\n",
            "Skipped file /content/drive/My Drive/KAIST/Spider1/imgs/5949646_4.jpg\n"
          ]
        },
        {
          "name": "stderr",
          "output_type": "stream",
          "text": [
            "Your max_length is set to 60, but your input_length is only 51. Since this is a summarization task, where outputs shorter than the input are typically wanted, you might consider decreasing max_length manually, e.g. summarizer('...', max_length=25)\n"
          ]
        },
        {
          "name": "stdout",
          "output_type": "stream",
          "text": [
            "475 total pages downloaded, 23 threads active, 49 x10 sec\n",
            "Skipped file /content/drive/My Drive/KAIST/Spider1/imgs/63191052_0.jpg\n",
            "Skipped file /content/drive/My Drive/KAIST/Spider1/imgs/48841041_1.jpg\n",
            "Skipped file /content/drive/My Drive/KAIST/Spider1/imgs/48841041_3.png\n"
          ]
        },
        {
          "name": "stderr",
          "output_type": "stream",
          "text": [
            "Your max_length is set to 60, but your input_length is only 51. Since this is a summarization task, where outputs shorter than the input are typically wanted, you might consider decreasing max_length manually, e.g. summarizer('...', max_length=25)\n"
          ]
        },
        {
          "name": "stdout",
          "output_type": "stream",
          "text": [
            "Skipped file /content/drive/My Drive/KAIST/Spider1/imgs/26318746_1.jpg\n",
            "Skipped file /content/drive/My Drive/KAIST/Spider1/imgs/26318746_2.jpg\n",
            "Skipped file /content/drive/My Drive/KAIST/Spider1/imgs/26318746_3.jpg\n",
            "Skipped file /content/drive/My Drive/KAIST/Spider1/imgs/26318746_4.jpg\n",
            "Skipped file /content/drive/My Drive/KAIST/Spider1/imgs/26318746_5.jpg\n",
            "Skipped file /content/drive/My Drive/KAIST/Spider1/imgs/26318746_6.jpg\n",
            "Skipped file /content/drive/My Drive/KAIST/Spider1/imgs/26318746_7.jpg\n",
            "482 total pages downloaded, 23 threads active, 50 x10 sec\n"
          ]
        },
        {
          "name": "stderr",
          "output_type": "stream",
          "text": [
            "Your max_length is set to 60, but your input_length is only 51. Since this is a summarization task, where outputs shorter than the input are typically wanted, you might consider decreasing max_length manually, e.g. summarizer('...', max_length=25)\n"
          ]
        },
        {
          "name": "stdout",
          "output_type": "stream",
          "text": [
            "486 total pages downloaded, 23 threads active, 51 x10 sec\n"
          ]
        },
        {
          "name": "stderr",
          "output_type": "stream",
          "text": [
            "/usr/local/lib/python3.11/dist-packages/PIL/Image.py:1043: UserWarning: Palette images with Transparency expressed in bytes should be converted to RGBA images\n",
            "  warnings.warn(\n"
          ]
        },
        {
          "name": "stdout",
          "output_type": "stream",
          "text": [
            "Skipped file /content/drive/My Drive/KAIST/Spider1/imgs/97028164_3.jpg\n",
            "Skipped file /content/drive/My Drive/KAIST/Spider1/imgs/97028164_4.jpg\n",
            "Skipped file /content/drive/My Drive/KAIST/Spider1/imgs/97028164_5.jpg\n",
            "Skipped file /content/drive/My Drive/KAIST/Spider1/imgs/97028164_8.png\n",
            "Skipped file /content/drive/My Drive/KAIST/Spider1/imgs/97028164_12.jpg\n",
            "Skipped file /content/drive/My Drive/KAIST/Spider1/imgs/97028164_13.png\n",
            "Skipped file /content/drive/My Drive/KAIST/Spider1/imgs/97028164_19.jpg\n",
            "Skipped file /content/drive/My Drive/KAIST/Spider1/imgs/97028164_22.png\n"
          ]
        },
        {
          "name": "stderr",
          "output_type": "stream",
          "text": [
            "/usr/local/lib/python3.11/dist-packages/PIL/Image.py:1043: UserWarning: Palette images with Transparency expressed in bytes should be converted to RGBA images\n",
            "  warnings.warn(\n"
          ]
        },
        {
          "name": "stdout",
          "output_type": "stream",
          "text": [
            "492 total pages downloaded, 23 threads active, 52 x10 sec\n",
            "Skipped file /content/drive/My Drive/KAIST/Spider1/imgs/98227358_0.jpg\n",
            "Skipped file /content/drive/My Drive/KAIST/Spider1/imgs/98227358_1.jpg\n",
            "Skipped file /content/drive/My Drive/KAIST/Spider1/imgs/98227358_2.jpg\n",
            "Skipped file /content/drive/My Drive/KAIST/Spider1/imgs/98227358_3.jpg\n",
            "Skipped file /content/drive/My Drive/KAIST/Spider1/imgs/98227358_4.jpg\n",
            "Skipped file /content/drive/My Drive/KAIST/Spider1/imgs/98227358_5.jpg\n",
            "Skipped file /content/drive/My Drive/KAIST/Spider1/imgs/98227358_6.jpg\n",
            "Skipped file /content/drive/My Drive/KAIST/Spider1/imgs/98227358_7.jpg\n",
            "Skipped file /content/drive/My Drive/KAIST/Spider1/imgs/98227358_8.jpg\n",
            "Skipped file /content/drive/My Drive/KAIST/Spider1/imgs/98227358_9.jpg\n"
          ]
        },
        {
          "name": "stderr",
          "output_type": "stream",
          "text": [
            "Your max_length is set to 60, but your input_length is only 51. Since this is a summarization task, where outputs shorter than the input are typically wanted, you might consider decreasing max_length manually, e.g. summarizer('...', max_length=25)\n"
          ]
        },
        {
          "name": "stdout",
          "output_type": "stream",
          "text": [
            "Skipped file /content/drive/My Drive/KAIST/Spider1/imgs/44001341_1.png\n",
            "Skipped file /content/drive/My Drive/KAIST/Spider1/imgs/44001341_2.jpg\n",
            "Skipped file /content/drive/My Drive/KAIST/Spider1/imgs/44001341_3.png\n",
            "Skipped file /content/drive/My Drive/KAIST/Spider1/imgs/24828373_0.jpg\n",
            "Skipped file /content/drive/My Drive/KAIST/Spider1/imgs/24828373_1.jpg\n",
            "Skipped file /content/drive/My Drive/KAIST/Spider1/imgs/24828373_2.jpg\n",
            "Skipped file /content/drive/My Drive/KAIST/Spider1/imgs/24828373_3.jpg\n",
            "Skipped file /content/drive/My Drive/KAIST/Spider1/imgs/24828373_7.jpg\n",
            "Skipped file /content/drive/My Drive/KAIST/Spider1/imgs/24828373_9.jpg\n",
            "Skipped file /content/drive/My Drive/KAIST/Spider1/imgs/24828373_10.jpg\n",
            "Skipped file /content/drive/My Drive/KAIST/Spider1/imgs/24828373_11.jpg\n",
            "498 total pages downloaded, 23 threads active, 53 x10 sec\n"
          ]
        },
        {
          "name": "stderr",
          "output_type": "stream",
          "text": [
            "Your max_length is set to 60, but your input_length is only 51. Since this is a summarization task, where outputs shorter than the input are typically wanted, you might consider decreasing max_length manually, e.g. summarizer('...', max_length=25)\n",
            "WARNING:bs4.dammit:Some characters could not be decoded, and were replaced with REPLACEMENT CHARACTER.\n"
          ]
        },
        {
          "name": "stdout",
          "output_type": "stream",
          "text": [
            "Skipped file /content/drive/My Drive/KAIST/Spider1/imgs/79251008_0.jpg\n",
            "Skipped file /content/drive/My Drive/KAIST/Spider1/imgs/5016215_0.jpg\n",
            "502 total pages downloaded, 23 threads active, 54 x10 sec\n",
            "Skipped file /content/drive/My Drive/KAIST/Spider1/imgs/550761_2.png\n"
          ]
        },
        {
          "name": "stderr",
          "output_type": "stream",
          "text": [
            "/usr/local/lib/python3.11/dist-packages/PIL/Image.py:1043: UserWarning: Palette images with Transparency expressed in bytes should be converted to RGBA images\n",
            "  warnings.warn(\n"
          ]
        },
        {
          "name": "stdout",
          "output_type": "stream",
          "text": [
            "508 total pages downloaded, 23 threads active, 55 x10 sec\n",
            "Skipped file /content/drive/My Drive/KAIST/Spider1/imgs/2352170_3.jpg\n",
            "Skipped file /content/drive/My Drive/KAIST/Spider1/imgs/2352170_4.jpg\n",
            "Skipped file /content/drive/My Drive/KAIST/Spider1/imgs/2352170_5.jpg\n",
            "Skipped file /content/drive/My Drive/KAIST/Spider1/imgs/2352170_6.jpg\n",
            "Skipped file /content/drive/My Drive/KAIST/Spider1/imgs/2352170_7.jpg\n",
            "Skipped file /content/drive/My Drive/KAIST/Spider1/imgs/2352170_8.jpg\n",
            "Skipped file /content/drive/My Drive/KAIST/Spider1/imgs/2352170_9.jpg\n",
            "Skipped file /content/drive/My Drive/KAIST/Spider1/imgs/2352170_10.jpg\n",
            "Skipped file /content/drive/My Drive/KAIST/Spider1/imgs/2352170_11.jpg\n",
            "Skipped file /content/drive/My Drive/KAIST/Spider1/imgs/2352170_13.jpg\n",
            "Skipped file /content/drive/My Drive/KAIST/Spider1/imgs/2352170_14.jpg\n",
            "Skipped file /content/drive/My Drive/KAIST/Spider1/imgs/2352170_15.jpg\n",
            "Skipped file /content/drive/My Drive/KAIST/Spider1/imgs/2352170_16.jpg\n",
            "Skipped file /content/drive/My Drive/KAIST/Spider1/imgs/2352170_17.jpg\n",
            "Skipped file /content/drive/My Drive/KAIST/Spider1/imgs/78241464_1.jpg\n",
            "Skipped file /content/drive/My Drive/KAIST/Spider1/imgs/78241464_2.jpg\n",
            "Skipped file /content/drive/My Drive/KAIST/Spider1/imgs/78241464_3.png\n",
            "515 total pages downloaded, 23 threads active, 56 x10 sec\n",
            "Skipped file /content/drive/My Drive/KAIST/Spider1/imgs/72971060_0.jpg\n",
            "Skipped file /content/drive/My Drive/KAIST/Spider1/imgs/72971060_3.jpg\n",
            "Skipped file /content/drive/My Drive/KAIST/Spider1/imgs/72971060_4.jpg\n",
            "Skipped file /content/drive/My Drive/KAIST/Spider1/imgs/72971060_5.jpg\n",
            "Skipped file /content/drive/My Drive/KAIST/Spider1/imgs/72971060_6.jpg\n",
            "Skipped file /content/drive/My Drive/KAIST/Spider1/imgs/72971060_7.jpg\n",
            "Skipped file /content/drive/My Drive/KAIST/Spider1/imgs/72971060_10.jpg\n",
            "Skipped file /content/drive/My Drive/KAIST/Spider1/imgs/72971060_11.jpg\n",
            "Skipped file /content/drive/My Drive/KAIST/Spider1/imgs/72971060_12.jpg\n",
            "Skipped file /content/drive/My Drive/KAIST/Spider1/imgs/52020430_2.png\n"
          ]
        },
        {
          "name": "stderr",
          "output_type": "stream",
          "text": [
            "Your max_length is set to 60, but your input_length is only 51. Since this is a summarization task, where outputs shorter than the input are typically wanted, you might consider decreasing max_length manually, e.g. summarizer('...', max_length=25)\n"
          ]
        },
        {
          "name": "stdout",
          "output_type": "stream",
          "text": [
            "520 total pages downloaded, 23 threads active, 57 x10 sec\n",
            "Skipped file /content/drive/My Drive/KAIST/Spider1/imgs/20709595_0.jpg\n",
            "Skipped file /content/drive/My Drive/KAIST/Spider1/imgs/20709595_6.jpg\n",
            "Skipped file /content/drive/My Drive/KAIST/Spider1/imgs/20709595_7.jpg\n",
            "Skipped file /content/drive/My Drive/KAIST/Spider1/imgs/20709595_8.jpg\n",
            "Skipped file /content/drive/My Drive/KAIST/Spider1/imgs/20709595_9.jpg\n",
            "Skipped file /content/drive/My Drive/KAIST/Spider1/imgs/20709595_11.jpg\n",
            "Skipped file /content/drive/My Drive/KAIST/Spider1/imgs/76612703_1.jpg\n",
            "Skipped file /content/drive/My Drive/KAIST/Spider1/imgs/76612703_2.jpg\n",
            "Skipped file /content/drive/My Drive/KAIST/Spider1/imgs/76612703_3.png\n",
            "524 total pages downloaded, 23 threads active, 58 x10 sec\n",
            "Skipped file /content/drive/My Drive/KAIST/Spider1/imgs/7636114_0.jpg\n",
            "Skipped file /content/drive/My Drive/KAIST/Spider1/imgs/7636114_6.jpg\n",
            "Skipped file /content/drive/My Drive/KAIST/Spider1/imgs/7636114_8.jpg\n",
            "Skipped file /content/drive/My Drive/KAIST/Spider1/imgs/7636114_9.jpg\n",
            "Skipped file /content/drive/My Drive/KAIST/Spider1/imgs/7636114_11.jpg\n",
            "Skipped file /content/drive/My Drive/KAIST/Spider1/imgs/7636114_12.jpg\n",
            "Skipped file /content/drive/My Drive/KAIST/Spider1/imgs/7636114_13.jpg\n",
            "Skipped file /content/drive/My Drive/KAIST/Spider1/imgs/26195358_1.jpg\n",
            "Skipped file /content/drive/My Drive/KAIST/Spider1/imgs/26195358_2.png\n",
            "528 total pages downloaded, 23 threads active, 59 x10 sec\n"
          ]
        },
        {
          "name": "stderr",
          "output_type": "stream",
          "text": [
            "WARNING:bs4.dammit:Some characters could not be decoded, and were replaced with REPLACEMENT CHARACTER.\n",
            "Your max_length is set to 60, but your input_length is only 31. Since this is a summarization task, where outputs shorter than the input are typically wanted, you might consider decreasing max_length manually, e.g. summarizer('...', max_length=15)\n"
          ]
        },
        {
          "name": "stdout",
          "output_type": "stream",
          "text": [
            "Skipped file /content/drive/My Drive/KAIST/Spider1/imgs/29224762_1.jpg\n",
            "Skipped file /content/drive/My Drive/KAIST/Spider1/imgs/29224762_2.png\n",
            "Skipped file /content/drive/My Drive/KAIST/Spider1/imgs/46075729_0.jpg\n",
            "Skipped file /content/drive/My Drive/KAIST/Spider1/imgs/46075729_6.jpg\n",
            "Skipped file /content/drive/My Drive/KAIST/Spider1/imgs/46075729_11.jpg\n",
            "Skipped file /content/drive/My Drive/KAIST/Spider1/imgs/46075729_12.jpg\n",
            "533 total pages downloaded, 23 threads active, 60 x10 sec\n"
          ]
        },
        {
          "name": "stderr",
          "output_type": "stream",
          "text": [
            "WARNING:bs4.dammit:Some characters could not be decoded, and were replaced with REPLACEMENT CHARACTER.\n"
          ]
        },
        {
          "name": "stdout",
          "output_type": "stream",
          "text": [
            "Skipped file /content/drive/My Drive/KAIST/Spider1/imgs/19047804_2.png\n",
            "539 total pages downloaded, 23 threads active, 61 x10 sec\n",
            "Skipped file /content/drive/My Drive/KAIST/Spider1/imgs/50354153_0.jpg\n",
            "Skipped file /content/drive/My Drive/KAIST/Spider1/imgs/50354153_2.jpg\n",
            "Skipped file /content/drive/My Drive/KAIST/Spider1/imgs/50354153_3.jpg\n",
            "Skipped file /content/drive/My Drive/KAIST/Spider1/imgs/50354153_4.jpg\n",
            "Skipped file /content/drive/My Drive/KAIST/Spider1/imgs/50354153_5.jpg\n",
            "Skipped file /content/drive/My Drive/KAIST/Spider1/imgs/50354153_7.jpg\n",
            "Skipped file /content/drive/My Drive/KAIST/Spider1/imgs/50354153_9.jpg\n",
            "Skipped file /content/drive/My Drive/KAIST/Spider1/imgs/50354153_10.jpg\n",
            "543 total pages downloaded, 23 threads active, 62 x10 sec\n"
          ]
        },
        {
          "name": "stderr",
          "output_type": "stream",
          "text": [
            "/usr/local/lib/python3.11/dist-packages/PIL/Image.py:1043: UserWarning: Palette images with Transparency expressed in bytes should be converted to RGBA images\n",
            "  warnings.warn(\n"
          ]
        },
        {
          "name": "stdout",
          "output_type": "stream",
          "text": [
            "Skipped file /content/drive/My Drive/KAIST/Spider1/imgs/22410815_1.png\n",
            "Skipped file /content/drive/My Drive/KAIST/Spider1/imgs/22410815_2.png\n",
            "Skipped file /content/drive/My Drive/KAIST/Spider1/imgs/22410815_3.png\n",
            "Skipped file /content/drive/My Drive/KAIST/Spider1/imgs/22410815_4.png\n",
            "Skipped file /content/drive/My Drive/KAIST/Spider1/imgs/22410815_6.jpg\n",
            "Skipped file /content/drive/My Drive/KAIST/Spider1/imgs/22410815_7.png\n",
            "549 total pages downloaded, 23 threads active, 63 x10 sec\n",
            "552 total pages downloaded, 23 threads active, 64 x10 sec\n",
            "Skipped file /content/drive/My Drive/KAIST/Spider1/imgs/58955238_1.png\n",
            "Skipped file /content/drive/My Drive/KAIST/Spider1/imgs/58955238_2.jpg\n",
            "Skipped file /content/drive/My Drive/KAIST/Spider1/imgs/58955238_3.png\n",
            "Skipped file /content/drive/My Drive/KAIST/Spider1/imgs/58955238_4.png\n",
            "Skipped file /content/drive/My Drive/KAIST/Spider1/imgs/58955238_12.jpg\n",
            "Skipped file /content/drive/My Drive/KAIST/Spider1/imgs/58955238_13.jpg\n",
            "Skipped file /content/drive/My Drive/KAIST/Spider1/imgs/58955238_19.jpg\n",
            "Skipped file /content/drive/My Drive/KAIST/Spider1/imgs/58955238_22.png\n"
          ]
        },
        {
          "name": "stderr",
          "output_type": "stream",
          "text": [
            "Your max_length is set to 60, but your input_length is only 10. Since this is a summarization task, where outputs shorter than the input are typically wanted, you might consider decreasing max_length manually, e.g. summarizer('...', max_length=5)\n"
          ]
        },
        {
          "name": "stdout",
          "output_type": "stream",
          "text": [
            "Skipped file /content/drive/My Drive/KAIST/Spider1/imgs/45318705_1.jpg\n",
            "Skipped file /content/drive/My Drive/KAIST/Spider1/imgs/45318705_2.jpg\n",
            "Skipped file /content/drive/My Drive/KAIST/Spider1/imgs/45318705_3.png\n",
            "558 total pages downloaded, 23 threads active, 65 x10 sec\n",
            "Skipped file /content/drive/My Drive/KAIST/Spider1/imgs/96700347_1.jpg\n",
            "Skipped file /content/drive/My Drive/KAIST/Spider1/imgs/96700347_2.png\n",
            "Skipped file /content/drive/My Drive/KAIST/Spider1/imgs/108378_0.jpg\n",
            "Skipped file /content/drive/My Drive/KAIST/Spider1/imgs/108378_1.jpg\n",
            "Skipped file /content/drive/My Drive/KAIST/Spider1/imgs/108378_2.jpg\n",
            "Skipped file /content/drive/My Drive/KAIST/Spider1/imgs/108378_3.jpg\n",
            "562 total pages downloaded, 23 threads active, 66 x10 sec\n",
            "Skipped file /content/drive/My Drive/KAIST/Spider1/imgs/34869910_0.jpg\n",
            "Skipped file /content/drive/My Drive/KAIST/Spider1/imgs/34869910_1.jpg\n"
          ]
        },
        {
          "name": "stderr",
          "output_type": "stream",
          "text": [
            "/usr/local/lib/python3.11/dist-packages/PIL/Image.py:1043: UserWarning: Palette images with Transparency expressed in bytes should be converted to RGBA images\n",
            "  warnings.warn(\n"
          ]
        },
        {
          "name": "stdout",
          "output_type": "stream",
          "text": [
            "567 total pages downloaded, 23 threads active, 67 x10 sec\n",
            "Skipped file /content/drive/My Drive/KAIST/Spider1/imgs/72290067_0.jpg\n",
            "Skipped file /content/drive/My Drive/KAIST/Spider1/imgs/72290067_1.jpg\n",
            "Skipped file /content/drive/My Drive/KAIST/Spider1/imgs/72290067_2.jpg\n",
            "Skipped file /content/drive/My Drive/KAIST/Spider1/imgs/72290067_3.jpg\n",
            "Skipped file /content/drive/My Drive/KAIST/Spider1/imgs/72290067_4.jpg\n",
            "Skipped file /content/drive/My Drive/KAIST/Spider1/imgs/72290067_5.jpg\n",
            "Skipped file /content/drive/My Drive/KAIST/Spider1/imgs/24166602_1.png\n",
            "Skipped file /content/drive/My Drive/KAIST/Spider1/imgs/24166602_3.jpg\n",
            "Skipped file /content/drive/My Drive/KAIST/Spider1/imgs/24166602_4.png\n",
            "Skipped file /content/drive/My Drive/KAIST/Spider1/imgs/24166602_5.png\n",
            "Skipped file /content/drive/My Drive/KAIST/Spider1/imgs/24166602_6.jpg\n",
            "Skipped file /content/drive/My Drive/KAIST/Spider1/imgs/24166602_7.jpg\n",
            "Skipped file /content/drive/My Drive/KAIST/Spider1/imgs/24166602_8.jpg\n",
            "Skipped file /content/drive/My Drive/KAIST/Spider1/imgs/24166602_10.jpg\n",
            "Skipped file /content/drive/My Drive/KAIST/Spider1/imgs/24166602_11.jpg\n",
            "Skipped file /content/drive/My Drive/KAIST/Spider1/imgs/24166602_12.jpg\n",
            "Skipped file /content/drive/My Drive/KAIST/Spider1/imgs/24166602_13.png\n",
            "568 total pages downloaded, 23 threads active, 68 x10 sec\n",
            "Skipped file /content/drive/My Drive/KAIST/Spider1/imgs/27597989_0.jpg\n",
            "Skipped file /content/drive/My Drive/KAIST/Spider1/imgs/27597989_1.jpg\n",
            "Skipped file /content/drive/My Drive/KAIST/Spider1/imgs/27597989_2.jpg\n",
            "Skipped file /content/drive/My Drive/KAIST/Spider1/imgs/27597989_3.jpg\n",
            "Skipped file /content/drive/My Drive/KAIST/Spider1/imgs/27597989_4.jpg\n",
            "573 total pages downloaded, 23 threads active, 69 x10 sec\n",
            "573 total pages downloaded, 23 threads active, 70 x10 sec\n",
            "Skipped file /content/drive/My Drive/KAIST/Spider1/imgs/372363_1.jpg\n",
            "Skipped file /content/drive/My Drive/KAIST/Spider1/imgs/372363_2.jpg\n",
            "Skipped file /content/drive/My Drive/KAIST/Spider1/imgs/372363_3.jpg\n",
            "Skipped file /content/drive/My Drive/KAIST/Spider1/imgs/372363_4.jpg\n",
            "Skipped file /content/drive/My Drive/KAIST/Spider1/imgs/372363_7.jpg\n",
            "Skipped file /content/drive/My Drive/KAIST/Spider1/imgs/372363_8.jpg\n",
            "Skipped file /content/drive/My Drive/KAIST/Spider1/imgs/372363_9.jpg\n",
            "Skipped file /content/drive/My Drive/KAIST/Spider1/imgs/372363_12.jpg\n",
            "Skipped file /content/drive/My Drive/KAIST/Spider1/imgs/372363_15.jpg\n",
            "Skipped file /content/drive/My Drive/KAIST/Spider1/imgs/372363_16.jpg\n",
            "Skipped file /content/drive/My Drive/KAIST/Spider1/imgs/372363_17.jpg\n",
            "Skipped file /content/drive/My Drive/KAIST/Spider1/imgs/372363_18.jpg\n",
            "Skipped file /content/drive/My Drive/KAIST/Spider1/imgs/372363_19.jpg\n",
            "Skipped file /content/drive/My Drive/KAIST/Spider1/imgs/372363_20.jpg\n",
            "Skipped file /content/drive/My Drive/KAIST/Spider1/imgs/372363_21.png\n",
            "Skipped file /content/drive/My Drive/KAIST/Spider1/imgs/372363_22.jpg\n",
            "Skipped file /content/drive/My Drive/KAIST/Spider1/imgs/372363_23.png\n",
            "Skipped file /content/drive/My Drive/KAIST/Spider1/imgs/95506952_0.jpg\n",
            "Skipped file /content/drive/My Drive/KAIST/Spider1/imgs/95506952_1.jpg\n",
            "Skipped file /content/drive/My Drive/KAIST/Spider1/imgs/95506952_2.jpg\n",
            "Skipped file /content/drive/My Drive/KAIST/Spider1/imgs/95506952_3.jpg\n",
            "Skipped file /content/drive/My Drive/KAIST/Spider1/imgs/95506952_4.jpg\n",
            "580 total pages downloaded, 23 threads active, 71 x10 sec\n",
            "580 total pages downloaded, 23 threads active, 72 x10 sec\n",
            "580 total pages downloaded, 23 threads active, 73 x10 sec\n",
            "580 total pages downloaded, 23 threads active, 74 x10 sec\n",
            "580 total pages downloaded, 23 threads active, 75 x10 sec\n",
            "580 total pages downloaded, 23 threads active, 76 x10 sec\n",
            "580 total pages downloaded, 23 threads active, 77 x10 sec\n",
            "580 total pages downloaded, 23 threads active, 78 x10 sec\n",
            "580 total pages downloaded, 23 threads active, 79 x10 sec\n",
            "580 total pages downloaded, 23 threads active, 80 x10 sec\n",
            "580 total pages downloaded, 23 threads active, 81 x10 sec\n",
            "580 total pages downloaded, 23 threads active, 82 x10 sec\n",
            "580 total pages downloaded, 23 threads active, 83 x10 sec\n",
            "580 total pages downloaded, 23 threads active, 84 x10 sec\n",
            "580 total pages downloaded, 23 threads active, 85 x10 sec\n",
            "580 total pages downloaded, 23 threads active, 86 x10 sec\n",
            "580 total pages downloaded, 23 threads active, 87 x10 sec\n"
          ]
        },
        {
          "ename": "KeyboardInterrupt",
          "evalue": "",
          "output_type": "error",
          "traceback": [
            "\u001b[0;31m---------------------------------------------------------------------------\u001b[0m",
            "\u001b[0;31mKeyboardInterrupt\u001b[0m                         Traceback (most recent call last)",
            "\u001b[0;32m<ipython-input-11-b7e7cb72c9d8>\u001b[0m in \u001b[0;36m<cell line: 0>\u001b[0;34m()\u001b[0m\n\u001b[1;32m     42\u001b[0m     \u001b[0mcrawler_threads\u001b[0m\u001b[0;34m.\u001b[0m\u001b[0mappend\u001b[0m\u001b[0;34m(\u001b[0m\u001b[0mclassifier\u001b[0m\u001b[0;34m)\u001b[0m\u001b[0;34m\u001b[0m\u001b[0;34m\u001b[0m\u001b[0m\n\u001b[1;32m     43\u001b[0m \u001b[0;32mfor\u001b[0m \u001b[0mcrawler\u001b[0m \u001b[0;32min\u001b[0m \u001b[0mcrawler_threads\u001b[0m\u001b[0;34m:\u001b[0m\u001b[0;34m\u001b[0m\u001b[0;34m\u001b[0m\u001b[0m\n\u001b[0;32m---> 44\u001b[0;31m     \u001b[0mcrawler\u001b[0m\u001b[0;34m.\u001b[0m\u001b[0mjoin\u001b[0m\u001b[0;34m(\u001b[0m\u001b[0;34m)\u001b[0m\u001b[0;34m\u001b[0m\u001b[0;34m\u001b[0m\u001b[0m\n\u001b[0m",
            "\u001b[0;32m/usr/lib/python3.11/threading.py\u001b[0m in \u001b[0;36mjoin\u001b[0;34m(self, timeout)\u001b[0m\n\u001b[1;32m   1117\u001b[0m \u001b[0;34m\u001b[0m\u001b[0m\n\u001b[1;32m   1118\u001b[0m         \u001b[0;32mif\u001b[0m \u001b[0mtimeout\u001b[0m \u001b[0;32mis\u001b[0m \u001b[0;32mNone\u001b[0m\u001b[0;34m:\u001b[0m\u001b[0;34m\u001b[0m\u001b[0;34m\u001b[0m\u001b[0m\n\u001b[0;32m-> 1119\u001b[0;31m             \u001b[0mself\u001b[0m\u001b[0;34m.\u001b[0m\u001b[0m_wait_for_tstate_lock\u001b[0m\u001b[0;34m(\u001b[0m\u001b[0;34m)\u001b[0m\u001b[0;34m\u001b[0m\u001b[0;34m\u001b[0m\u001b[0m\n\u001b[0m\u001b[1;32m   1120\u001b[0m         \u001b[0;32melse\u001b[0m\u001b[0;34m:\u001b[0m\u001b[0;34m\u001b[0m\u001b[0;34m\u001b[0m\u001b[0m\n\u001b[1;32m   1121\u001b[0m             \u001b[0;31m# the behavior of a negative timeout isn't documented, but\u001b[0m\u001b[0;34m\u001b[0m\u001b[0;34m\u001b[0m\u001b[0m\n",
            "\u001b[0;32m/usr/lib/python3.11/threading.py\u001b[0m in \u001b[0;36m_wait_for_tstate_lock\u001b[0;34m(self, block, timeout)\u001b[0m\n\u001b[1;32m   1137\u001b[0m \u001b[0;34m\u001b[0m\u001b[0m\n\u001b[1;32m   1138\u001b[0m         \u001b[0;32mtry\u001b[0m\u001b[0;34m:\u001b[0m\u001b[0;34m\u001b[0m\u001b[0;34m\u001b[0m\u001b[0m\n\u001b[0;32m-> 1139\u001b[0;31m             \u001b[0;32mif\u001b[0m \u001b[0mlock\u001b[0m\u001b[0;34m.\u001b[0m\u001b[0macquire\u001b[0m\u001b[0;34m(\u001b[0m\u001b[0mblock\u001b[0m\u001b[0;34m,\u001b[0m \u001b[0mtimeout\u001b[0m\u001b[0;34m)\u001b[0m\u001b[0;34m:\u001b[0m\u001b[0;34m\u001b[0m\u001b[0;34m\u001b[0m\u001b[0m\n\u001b[0m\u001b[1;32m   1140\u001b[0m                 \u001b[0mlock\u001b[0m\u001b[0;34m.\u001b[0m\u001b[0mrelease\u001b[0m\u001b[0;34m(\u001b[0m\u001b[0;34m)\u001b[0m\u001b[0;34m\u001b[0m\u001b[0;34m\u001b[0m\u001b[0m\n\u001b[1;32m   1141\u001b[0m                 \u001b[0mself\u001b[0m\u001b[0;34m.\u001b[0m\u001b[0m_stop\u001b[0m\u001b[0;34m(\u001b[0m\u001b[0;34m)\u001b[0m\u001b[0;34m\u001b[0m\u001b[0;34m\u001b[0m\u001b[0m\n",
            "\u001b[0;31mKeyboardInterrupt\u001b[0m: "
          ]
        }
      ],
      "source": [
        "print(\"The Crawler has the following configuraions:\")\n",
        "print(conf)\n",
        "\n",
        "base_url = conf[\"base_url\"]\n",
        "number_of_threads = conf[\"number_of_threads\"]\n",
        "\n",
        "url_lock = threading.Lock()\n",
        "\n",
        "\n",
        "have_visited = []\n",
        "crawler_threads = []\n",
        "error_links = []\n",
        "\n",
        "count_downloaded_pages()\n",
        "\n",
        "monitor = threading.Thread(target=monitor_thread)\n",
        "monitor.start()\n",
        "\n",
        "before_starting = datetime.now()\n",
        "\n",
        "links_to_crawl=[]\n",
        "\n",
        "for i in range(int(number_of_threads)):\n",
        "    print(\"Setup thread no.{} with the following settings:\\nbase_url:{}\".format(i,base_url[i]))\n",
        "    links_to_crawl.append(MyPriorityQueue())\n",
        "    links_to_crawl[i].put(base_url[i],1)\n",
        "    have_visited.append({})\n",
        "    error_links.append([])\n",
        "    crawler = Crawler(base_url = base_url[i],\n",
        "                      url_queue = links_to_crawl[i],\n",
        "                      have_visited= have_visited[i],\n",
        "                      error_links= error_links[i],\n",
        "                      url_lock=url_lock,\n",
        "                      thread_num = i)\n",
        "    crawler.name = \"crawler\"\n",
        "    classifier = Classifier()\n",
        "\n",
        "    crawler.start()\n",
        "    classifier.name=\"classifer\"\n",
        "    classifier.start()\n",
        "    crawler_threads.append(crawler)\n",
        "    crawler_threads.append(classifier)\n",
        "for crawler in crawler_threads:\n",
        "    crawler.join()"
      ]
    }
  ],
  "metadata": {
    "accelerator": "GPU",
    "colab": {
      "gpuType": "T4",
      "provenance": []
    },
    "kernelspec": {
      "display_name": "Python 3",
      "name": "python3"
    },
    "language_info": {
      "name": "python",
      "version": "3.9.6"
    }
  },
  "nbformat": 4,
  "nbformat_minor": 0
}
